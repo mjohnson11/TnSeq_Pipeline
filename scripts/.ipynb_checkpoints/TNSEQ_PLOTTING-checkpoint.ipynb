{
 "cells": [
  {
   "cell_type": "code",
   "execution_count": 83,
   "metadata": {},
   "outputs": [],
   "source": [
    "import pandas as pd\n",
    "import numpy as np\n",
    "from collections import defaultdict\n",
    "import matplotlib as mpl\n",
    "from matplotlib import pyplot as pl\n",
    "from scipy import stats as sci_stats\n",
    "from statsmodels.stats.multitest import fdrcorrection as benjamini_hochberg\n",
    "import matplotlib.gridspec as gridspec\n",
    "from mpl_toolkits.axes_grid1 import make_axes_locatable\n",
    "from mpl_toolkits.axes_grid1.inset_locator import inset_axes\n",
    "\n",
    "import seaborn as sns\n",
    "sns.set_style(\"white\")\n",
    "sns.set_style(\"ticks\")\n",
    "\n",
    "colors = ['#FFB000', '#648FFF']\n",
    "\n",
    "%matplotlib notebook\n",
    "pl.ioff()"
   ]
  },
  {
   "cell_type": "markdown",
   "metadata": {},
   "source": [
    "# Reading data:"
   ]
  },
  {
   "cell_type": "code",
   "execution_count": 84,
   "metadata": {},
   "outputs": [
    {
     "name": "stderr",
     "output_type": "stream",
     "text": [
      "/anaconda3/lib/python3.7/site-packages/ipykernel_launcher.py:29: FutureWarning: Method .as_matrix will be removed in a future version. Use .values instead.\n",
      "/anaconda3/lib/python3.7/site-packages/ipykernel_launcher.py:46: SettingWithCopyWarning: \n",
      "A value is trying to be set on a copy of a slice from a DataFrame.\n",
      "Try using .loc[row_indexer,col_indexer] = value instead\n",
      "\n",
      "See the caveats in the documentation: http://pandas.pydata.org/pandas-docs/stable/indexing.html#indexing-view-versus-copy\n"
     ]
    }
   ],
   "source": [
    "## READING DATA\n",
    "def change_well_format(w):\n",
    "    if '_' in w:\n",
    "        plate = int(w[1:3])\n",
    "        t = 'LK' + str(plate) + '-'\n",
    "        n = int(w.split('_')[1])\n",
    "        lets = ['A', 'B', 'C', 'D', 'E', 'F', 'G', 'H']\n",
    "        l = lets[int(np.floor((n-1)/12))]\n",
    "        return t + l + str(((n-1) % 12) + 1).zfill(2)\n",
    "    else:\n",
    "        return w\n",
    "\n",
    "def get_geno_matrix(seg_names):\n",
    "    d = pd.read_csv('../accessory_files/BYxRM_GenoData.csv')\n",
    "    map_genos = {'B': 0, 'R': 1}\n",
    "    for w in d.keys():\n",
    "        if change_well_format(w) in seg_names:\n",
    "            d[change_well_format(w)] = d[w].map(map_genos)\n",
    "    assert len([s for s in seg_names if s in d.columns]) == len(seg_names)\n",
    "    return d[['marker'] + seg_names]\n",
    "\n",
    "def get_sig_r2(row, model):\n",
    "    if row[model + '_model_p'] < 0.05:\n",
    "        return row[model + '_model_r2']\n",
    "    else:\n",
    "        return np.nan\n",
    "\n",
    "x_info = pd.read_csv('../accessory_files/Clones_For_Tn96_Experiment.csv')\n",
    "seg_to_fit = {i[0]: i[1] for i in x_info.as_matrix(['segregant', 'initial fitness, YPD 30C'])}\n",
    "tp_all = pd.read_csv('../../Analysis/TP_data_by_edge.csv')\n",
    "tp = tp_all.loc[tp_all['Type']=='Experiment']\n",
    "bt = pd.read_csv('../../Analysis/BT_data_by_edge.csv')\n",
    "tp_dfe = pd.read_csv('../../Analysis/TP_DFE_statistics.csv')\n",
    "bt_dfe = pd.read_csv('../../Analysis/BT_DFE_statistics.csv')\n",
    "bt['Long.Edge'] = bt['Edge']\n",
    "bt['Edge'] = bt['Long.Edge'].str[:15]\n",
    "dats = {'BT': bt, 'TP': tp, 'BT.DFE': bt_dfe, 'TP.DFE': tp_dfe}\n",
    "exps = {'BT': 'E1', 'TP': 'E2'}\n",
    "segs_all = {exp: [i.split('.')[0] for i in dats[exp] if '.mean.s' in i] for exp in exps}\n",
    "# must have at least 50 mutations with s measured\n",
    "segs_use = {exp: [s for s in segs_all[exp] if len(dats[exp].loc[pd.notnull(dats[exp][s + '.mean.s'])])>=50] for exp in exps}\n",
    "sorted_segs = {exp: sorted(segs_use[exp], key=lambda x: seg_to_fit[x]) for exp in exps}\n",
    "gm = get_geno_matrix(segs_all['TP'])\n",
    "#adding columns where the r2 is zero if the model is not significantly better than the null model\n",
    "for model in ['full', 'x', 'qtl']:\n",
    "    tp[model + '_sig_only_r2'] = tp.apply(lambda row: get_sig_r2(row, model), axis=1)"
   ]
  },
  {
   "cell_type": "markdown",
   "metadata": {},
   "source": [
    "## Reportable numbers for the paper:"
   ]
  },
  {
   "cell_type": "code",
   "execution_count": 85,
   "metadata": {},
   "outputs": [],
   "source": [
    "tp_seg_edges_measured = [len(tp.loc[pd.notnull(tp[s+'.mean.s'])]) for s in segs_all['TP']]\n",
    "bt_seg_edges_measured = [len(bt.loc[pd.notnull(bt[s+'.mean.s'])]) for s in segs_all['BT']]"
   ]
  },
  {
   "cell_type": "code",
   "execution_count": 86,
   "metadata": {},
   "outputs": [
    {
     "name": "stdout",
     "output_type": "stream",
     "text": [
      "BT. Tried 20 segregants.\n",
      "18  segregants included. 413.8888888888889 mutations measured on average, min: 180 max: 614\n",
      "996 mutations. 710 measured in at least one seg. of those, they are measured in 10.492957746478874 on average.\n",
      "Measured in 10.492957746478874 segs on average\n",
      "253 significant in at least one seg, 457 in none, 0.643661971830986 percent\n"
     ]
    }
   ],
   "source": [
    "print('BT. Tried 20 segregants.')\n",
    "print(len(segs_all['BT']), ' segregants included.', np.mean(bt_seg_edges_measured), 'mutations measured on average,', 'min:', np.min(bt_seg_edges_measured), 'max:', np.max(bt_seg_edges_measured))\n",
    "print(len(bt), 'mutations.', len(bt.loc[bt['num.measured']>0]), 'measured in at least one seg.', 'of those, they are measured in', np.mean(bt.loc[bt['num.measured']>0]['num.measured']), 'on average.')\n",
    "print('Measured in', np.nanmean(bt.loc[bt['num.measured']>0]['num.measured']), 'segs on average')\n",
    "print(len(bt.loc[bt['num.sig']>0]), 'significant in at least one seg,', len(bt.loc[bt['num.measured']>0].loc[bt['num.sig']==0]), 'in none,', \n",
    "      len(bt.loc[bt['num.measured']>0].loc[bt['num.sig']==0])/len(bt.loc[bt['num.measured']>0]), 'percent')"
   ]
  },
  {
   "cell_type": "code",
   "execution_count": 87,
   "metadata": {},
   "outputs": [
    {
     "name": "stdout",
     "output_type": "stream",
     "text": [
      "TP. Tried 176 segregants.\n",
      "162  segregants included. 65.70987654320987 mutations measured on average, min: 1 max: 82\n",
      "91 mutations. Measured in 116.97802197802197 segs on average\n",
      "9 is the minimum # segs w measurements for one mutation, and the min # sig effects is: 0\n"
     ]
    }
   ],
   "source": [
    "print('TP. Tried 176 segregants.')\n",
    "print(len(segs_all['TP']), ' segregants included.', np.mean(tp_seg_edges_measured), 'mutations measured on average,', 'min:', np.min(tp_seg_edges_measured), 'max:', np.max(tp_seg_edges_measured))\n",
    "print(len(tp), 'mutations.', 'Measured in', np.nanmean(tp['num.measured']), 'segs on average')\n",
    "print(np.min(tp['num.measured']),'is the minimum # segs w measurements for one mutation, and the min # sig effects is:', np.min(tp['num.sig']))"
   ]
  },
  {
   "cell_type": "code",
   "execution_count": 88,
   "metadata": {},
   "outputs": [
    {
     "name": "stdout",
     "output_type": "stream",
     "text": [
      "TP. Mutations measured in at least 50 segs: 80 X model sig: 64 QTL model sig: 60\n",
      "None sig: 9\n",
      "Full model sig: 71 Full > QTL: 50\n",
      "Full > X: 61\n",
      "Detected qtls in 62\n"
     ]
    }
   ],
   "source": [
    "tpg = tp.loc[tp['num.measured']>=50]\n",
    "print('TP. Mutations measured in at least 50 segs:', len(tpg), 'X model sig:', len(tpg.loc[tpg['x_model_p']<0.05]), 'QTL model sig:', len(tpg.loc[tpg['qtl_model_p']<0.05]))\n",
    "print('None sig:', len(tpg.loc[tpg['x_model_p']>=0.05].loc[pd.isnull(tpg['qtl_model_p']) | (tpg['qtl_model_p']>=0.05)].loc[tpg['full_model_p']>=0.05]))\n",
    "print('Full model sig:', len(tpg.loc[tpg['full_model_p']<0.05]), 'Full > QTL:', len(tpg.loc[tpg['model_comp_p_full_vs_qtl']<0.05]))\n",
    "print('Full > X:', len(tpg.loc[tpg['model_comp_p_full_vs_x']<0.05]))\n",
    "print('Detected qtls in', len(tp.loc[pd.notnull(tp['qtls'])]))"
   ]
  },
  {
   "cell_type": "code",
   "execution_count": 89,
   "metadata": {},
   "outputs": [
    {
     "name": "stdout",
     "output_type": "stream",
     "text": [
      "X sig: 64 0.8\n",
      "QTL sig: 60 0.75\n",
      "No sig model: 9 0.1375\n",
      "QTL sig only: 7 0.0875\n",
      "X sig only: 11 0.1375\n",
      "Both sig: 53 0.6625\n",
      "mean X r2 when sig: 0.27827836500866154\n",
      "mean QTL r2 when sig: 0.48314088834069135\n"
     ]
    }
   ],
   "source": [
    "print('X sig:', len(tpg.loc[tpg['x_model_p']<0.05]), len(tpg.loc[tpg['x_model_p']<0.05])/len(tpg))\n",
    "print('QTL sig:', len(tpg.loc[tpg['qtl_model_p']<0.05]), len(tpg.loc[tpg['qtl_model_p']<0.05])/len(tpg))\n",
    "print('No sig model:', len(tpg.loc[tpg['x_model_p']>=0.05].loc[pd.isnull(tpg['qtl_model_p']) | (tpg['qtl_model_p']>=0.05)]), \n",
    "      len(tpg.loc[tpg['x_model_p']<0.05].loc[pd.isnull(tpg['qtl_model_p']) | (tpg['qtl_model_p']>=0.05)])/len(tpg))\n",
    "print('QTL sig only:', len(tpg.loc[tpg['qtl_model_p']<0.05].loc[tpg['x_model_p']>=0.05]), len(tpg.loc[tpg['qtl_model_p']<0.05].loc[tpg['x_model_p']>=0.05])/len(tpg))\n",
    "print('X sig only:', len(tpg.loc[pd.isnull(tpg['qtl_model_p']) | (tpg['qtl_model_p']>=0.05)].loc[tpg['x_model_p']<0.05]), \n",
    "                                 len(tpg.loc[pd.isnull(tpg['qtl_model_p']) | (tpg['qtl_model_p']>=0.05)].loc[tpg['x_model_p']<0.05])/len(tpg))\n",
    "print('Both sig:', len(tpg.loc[tpg['qtl_model_p']<0.05].loc[tpg['x_model_p']<0.05]), len(tpg.loc[tpg['qtl_model_p']<0.05].loc[tpg['x_model_p']<0.05])/len(tpg))\n",
    "print('mean X r2 when sig:', np.mean(tpg.loc[tpg['x_model_p']<0.05]['x_model_r2']))\n",
    "print('mean QTL r2 when sig:', np.mean(tpg.loc[tpg['qtl_model_p']<0.05]['qtl_model_r2']))"
   ]
  },
  {
   "cell_type": "code",
   "execution_count": 90,
   "metadata": {},
   "outputs": [
    {
     "name": "stdout",
     "output_type": "stream",
     "text": [
      "Full sig: 71\n",
      "Full > QTL only: 50 0.625\n",
      "Full > X only: 61 0.7625\n",
      "Full > Both: 40 0.5\n"
     ]
    }
   ],
   "source": [
    "full_sig = tpg.loc[tpg['full_model_p']<0.05]\n",
    "print('Full sig:', len(full_sig))\n",
    "print('Full > QTL only:', len(full_sig.loc[tpg['model_comp_p_full_vs_qtl']<0.05]), len(full_sig.loc[tpg['model_comp_p_full_vs_qtl']<0.05])/len(tpg))\n",
    "print('Full > X only:', len(full_sig.loc[tpg['model_comp_p_full_vs_x']<0.05]), len(full_sig.loc[tpg['model_comp_p_full_vs_x']<0.05])/len(tpg))\n",
    "print('Full > Both:', len(full_sig.loc[tpg['model_comp_p_full_vs_qtl']<0.05].loc[tpg['model_comp_p_full_vs_x']<0.05]), \n",
    "      len(full_sig.loc[tpg['model_comp_p_full_vs_x']<0.05].loc[tpg['model_comp_p_full_vs_qtl']<0.05])/len(tpg))"
   ]
  },
  {
   "cell_type": "markdown",
   "metadata": {},
   "source": [
    "## General plotting functions:"
   ]
  },
  {
   "cell_type": "code",
   "execution_count": 91,
   "metadata": {},
   "outputs": [],
   "source": [
    "def get_data_subset(xvals, yvals, xerrs, yerrs, geno_row1, geno_row1_equals, geno_row2=None, geno_row2_equals=None):\n",
    "    if geno_row2:\n",
    "        xs = [xvals[s] for s in range(len(xvals)) if geno_row1[s]==geno_row1_equals and geno_row2[s]==geno_row2_equals]\n",
    "        ys = [yvals[s] for s in range(len(yvals)) if geno_row1[s]==geno_row1_equals and geno_row2[s]==geno_row2_equals]\n",
    "        if yerrs:\n",
    "            ye = [yerrs[s] for s in range(len(yerrs)) if geno_row1[s]==geno_row1_equals and geno_row2[s]==geno_row2_equals]\n",
    "        else:\n",
    "            ye = None\n",
    "        if xerrs:\n",
    "            xe = [xerrs[s] for s in range(len(xerrs)) if geno_row1[s]==geno_row1_equals and geno_row2[s]==geno_row2_equals]\n",
    "        else:\n",
    "            xe=None        \n",
    "    else:\n",
    "        xs = [xvals[s] for s in range(len(xvals)) if geno_row1[s]==geno_row1_equals]\n",
    "        ys = [yvals[s] for s in range(len(yvals)) if geno_row1[s]==geno_row1_equals]\n",
    "        if yerrs:\n",
    "            ye = [yerrs[s] for s in range(len(yerrs)) if geno_row1[s]==geno_row1_equals]\n",
    "        else:\n",
    "            ye = None\n",
    "        if xerrs:\n",
    "            xe = [xerrs[s] for s in range(len(xerrs)) if geno_row1[s]==geno_row1_equals]\n",
    "        else:\n",
    "            xe = None\n",
    "    return xs, ys, xe, ye\n",
    "\n",
    "def plot_w_qtl_color(sub, df_row, show_title, measured, xvals, yvals, plot_w_color, qtl_to_show=None, xerrs=None, yerrs=None, point_size = 2, error_size = 0.5):\n",
    "    geno_dat = gm.as_matrix(['marker'] + measured)\n",
    "    if show_title:\n",
    "        sub.set_title(str(df_row['Gene.Use']), fontsize=7, y=0.95)\n",
    "    if str(df_row['full.model.qtls']) != 'nan' and plot_w_color:\n",
    "        if qtl_to_show: #ignore all qtls except the \n",
    "            edge_qtls = [i.split(';')[0] for i in str(df_row['full.model.qtls']).split('|') if i.split(';')[0] == qtl_to_show]\n",
    "        else:\n",
    "            edge_qtls_unsorted = [i.split(';')[0] for i in str(df_row['full.model.qtls']).split('|')]\n",
    "            qtl_effects = [float(i) for i in str(df_row['full_model_coeffs']).split(';')[2:]]\n",
    "            edge_qtls = [i for jnk,i in sorted(zip(qtl_effects, edge_qtls_unsorted), reverse=True)]\n",
    "    else:\n",
    "        edge_qtls = []\n",
    "    geno_rows = [list([row[1:] for row in geno_dat if '_'.join(row[0].split('_')[1:3]) == eq][0]) for eq in edge_qtls]\n",
    "    if len(geno_rows) == 1:\n",
    "        geno_row = geno_rows[0]\n",
    "        for i in range(2):\n",
    "            xs, ys, xe, ye = get_data_subset(xvals, yvals, xerrs, yerrs, geno_rows[0], i)\n",
    "            sub.errorbar(x=xs, y=ys, xerr=xe, yerr=ye, marker='o', c=colors[i], linestyle='', markersize=point_size, elinewidth=error_size,\n",
    "                         markeredgewidth=0.5)\n",
    "    elif len(geno_rows) > 1:\n",
    "        for i in range(2):\n",
    "            xs1, ys1, xe1, ye1 = get_data_subset(xvals, yvals, xerrs, yerrs, geno_rows[0], i, geno_row2=geno_rows[1], geno_row2_equals=0)\n",
    "            xs2, ys2, xe2, ye2 = get_data_subset(xvals, yvals, xerrs, yerrs, geno_rows[0], i, geno_row2=geno_rows[1], geno_row2_equals=1)\n",
    "            sub.errorbar(x=xs1, y=ys1, xerr=xe1, yerr=ye1, marker='o', c=colors[i], linestyle='', markersize=point_size, elinewidth=error_size, \n",
    "                         markeredgewidth=0.5)\n",
    "            sub.errorbar(x=xs2, y=ys2, xerr=xe2, yerr=ye2, marker='o', linestyle='', c=colors[i], alpha=0.7, markersize=point_size, elinewidth=error_size, \n",
    "                         markeredgewidth=0.5, markerfacecolor='none')\n",
    "    else:\n",
    "        sub.errorbar(x=xvals, y=yvals, xerr=xerrs, yerr=yerrs, marker='o', c='k', linestyle='', markersize=point_size, elinewidth=error_size,  markeredgewidth=0.5)   \n",
    "        "
   ]
  },
  {
   "cell_type": "markdown",
   "metadata": {},
   "source": [
    "## Making DFE-related plots:"
   ]
  },
  {
   "cell_type": "code",
   "execution_count": 92,
   "metadata": {},
   "outputs": [],
   "source": [
    "def get_dfe(df, segname):\n",
    "    use_df = df.loc[pd.notnull(df[segname + '.mean.s'])]\n",
    "    return list(use_df[segname + '.mean.s'])\n",
    "\n",
    "def plot_dfe_stat(sub, df_row, segs, x_list, gm=None, qtl_color=False, show_pvals=False, square_root=False, point_s=2):\n",
    "    point_size = 2\n",
    "    y_list = list(df_row[segs])\n",
    "    if square_root: y_list = np.sqrt(np.array(y_list))\n",
    "    pval = df_row['x_model_p']\n",
    "    print(pval)\n",
    "    if show_pvals:\n",
    "        if pval < 0.001:\n",
    "            sub.annotate('p=' + \"{:.2E}\".format(pval), xy=(0.9, 0.85), xycoords='axes fraction', fontsize=6, horizontalalignment='right', verticalalignment='bottom')\n",
    "        else:\n",
    "            sub.annotate('p=' + str(pval)[:4], xy=(0.9, 0.85), xycoords='axes fraction', fontsize=6, horizontalalignment='right', verticalalignment='bottom')\n",
    "    plot_w_qtl_color(sub, df_row, None, segs, x_list, y_list, qtl_color, point_size=point_s)\n",
    "    sub.set_xlim([-0.16, 0.12])\n",
    "    y_range = max(y_list)-min(y_list)\n",
    "    sub.set_ylim([min(y_list)-y_range*0.25, max(y_list)+y_range*0.25]) # I don't know why pyplot is not doing this well automatically here"
   ]
  },
  {
   "cell_type": "code",
   "execution_count": 93,
   "metadata": {},
   "outputs": [],
   "source": [
    "## Making DFE heatmap arrays\n",
    "data_by_fit_ranks = {'BT': [[], [], []], 'TP': [[], [], []]} #xdata, ydata, weights (scaled to make columns sum to one)\n",
    "data_by_seg = {'BT': dict(), 'TP': dict()}\n",
    "sorted_segs = {exp: sorted(segs_use[exp], key=lambda x: seg_to_fit[x]) for exp in exps}\n",
    "fit_ranks = {exp: {s: sorted_segs[exp].index(s) for s in segs_use[exp]} for exp in exps}\n",
    "exp_binnin = {'BT': 1, 'TP': 1}\n",
    "for exp in exps:\n",
    "    for seg in segs_use[exp]:\n",
    "        td = dats[exp].loc[dats[exp][seg + '.total.cbcs']>=4]\n",
    "        data_by_fit_ranks[exp][0] += [fit_ranks[exp][seg]] * len(td)\n",
    "        data_by_fit_ranks[exp][1] += list(td[seg + '.mean.s'])\n",
    "        # these are the weights, which are all 1/((number of segs per bin)*(num edges with measurements for this seg)). This allows us to plot so columns sum to one (are normed).\n",
    "        data_by_fit_ranks[exp][2] += list(np.array([1/exp_binnin[exp] for i in range(len(td))])/len(td)) \n",
    "        data_by_seg[exp][seg] = list(td[seg + '.mean.s'])"
   ]
  },
  {
   "cell_type": "markdown",
   "metadata": {},
   "source": [
    "# FIGURE 2"
   ]
  },
  {
   "cell_type": "code",
   "execution_count": 166,
   "metadata": {},
   "outputs": [
    {
     "name": "stdout",
     "output_type": "stream",
     "text": [
      "0.0343397895799612\n",
      "4.125398447394122e-31\n",
      "7.386069094834634e-14\n",
      "4.088895290612011e-12\n"
     ]
    },
    {
     "name": "stderr",
     "output_type": "stream",
     "text": [
      "/anaconda3/lib/python3.7/site-packages/ipykernel_launcher.py:27: FutureWarning: Method .as_matrix will be removed in a future version. Use .values instead.\n"
     ]
    }
   ],
   "source": [
    "def colorbar(mappable):\n",
    "    # from https://joseph-long.com/writing/colorbars/\n",
    "    ax = mappable.axes\n",
    "    fig = ax.figure\n",
    "    divider = make_axes_locatable(ax)\n",
    "    cax = divider.append_axes(\"right\", size=\"5%\", pad=0.05)\n",
    "    return fig.colorbar(mappable, cax=cax)\n",
    "\n",
    "def quartile_histo(sub, exp):\n",
    "    num_to_combine = int(len(segs_use[exp])/4)\n",
    "    top_dfe, bottom_dfe = [], [],   \n",
    "    for i in range(num_to_combine):\n",
    "        bottom_dfe += get_dfe(dats[exp], sorted_segs[exp][i])\n",
    "        top_dfe += get_dfe(dats[exp], sorted_segs[exp][len(sorted_segs[exp])-1-i])\n",
    "    bin_lefts = [(-16.15+i)*0.015-0.005 for i in range(22)]\n",
    "    sub.hist(top_dfe, bins=bin_lefts, label='Most Fit Quartile\\nof Segregants', histtype=\"step\", color=\"r\", weights=np.ones_like(top_dfe)/float(len(top_dfe)))\n",
    "    sub.hist(bottom_dfe, bins=bin_lefts, label='Least Fit Quartile\\nof Segregants', histtype=\"step\", color=\"b\", weights=np.ones_like(bottom_dfe)/float(len(bottom_dfe)))\n",
    "\n",
    "def make_dfe_plot(exps_list, outname):\n",
    "    all_pads = 1\n",
    "    dfe_range = [-0.15, 0.07]\n",
    "    f = pl.figure(figsize=(7.25, 4.2), dpi=300)\n",
    "    pl.subplots_adjust(wspace=0.6)\n",
    "    gs0 = gridspec.GridSpec(16, 40)\n",
    "    fit_heatmaps_gs = [gridspec.GridSpecFromSubplotSpec(1, 1, subplot_spec=gs0[:8,:10]),\n",
    "                       gridspec.GridSpecFromSubplotSpec(1, 1, subplot_spec=gs0[:8,14:24])]\n",
    "    stats_gs = gridspec.GridSpecFromSubplotSpec(1, 4, subplot_spec=gs0[11:,1:])\n",
    "    stats_subs = [pl.Subplot(f, stats_gs[i]) for i in range(4)]\n",
    "    hist_gs = gridspec.GridSpecFromSubplotSpec(1, 1, subplot_spec=gs0[:8,29:])\n",
    "    hist_sub = pl.Subplot(f, hist_gs[0])\n",
    "     \n",
    "    lets = [['A', 'B', 'C'], ['D', 'E', 'F']]\n",
    "    for c in range(2):\n",
    "        exp = exps_list[c]\n",
    "        hm_x, hm_y, w = data_by_fit_ranks[exp]\n",
    "        hm_sub = pl.Subplot(f, fit_heatmaps_gs[c][0])        \n",
    "        combine_bin = len(segs_use[exp])/exp_binnin[exp]\n",
    "        h = hm_sub.hist2d(hm_x, hm_y, weights=w, bins=[combine_bin, [-0.15+i*0.25/30 for i in range(30)]], cmin=1e-20, \n",
    "                          cmap=pl.cm.viridis)\n",
    "        cb = colorbar(h[3])\n",
    "        cb.ax.tick_params(labelsize=6, pad=all_pads)\n",
    "        cb.outline.set_visible(False)\n",
    "        hm_sub.tick_params(axis='both', which='major', labelsize=6, pad=all_pads)\n",
    "        hm_sub.set_ylim(dfe_range)\n",
    "        hm_sub.annotate('Background Fitness Rank', fontsize=6, xy=(0.5, -0.15), xycoords=\"axes fraction\", horizontalalignment=\"center\")\n",
    "        hm_sub.set_ylabel('Fitness Effect', fontsize=6, x=0)\n",
    "        if c == 0: \n",
    "            hm_sub.annotate('A', fontsize=10, xy=(-0.2, 1.1), xycoords=\"axes fraction\", horizontalalignment=\"center\")\n",
    "        else:\n",
    "            hm_sub.annotate('C', fontsize=10, xy=(-0.2, 1.1), xycoords=\"axes fraction\", horizontalalignment=\"center\")\n",
    "        hm_sub.set_ylim([-0.15, 0.1])\n",
    "        f.add_subplot(hm_sub)\n",
    "        sns.despine(ax=hm_sub)\n",
    "\n",
    "    stats = [['BT', 'mean', 'DFE Mean', 'B'], ['TP', 'mean', 'DFE Mean', 'E'], ['TP', 'variance', 'DFE Variance', 'F'], \n",
    "             ['TP', 'skew', 'DFE Skew', 'G']]\n",
    "    for s in range(len(stats)):\n",
    "        plot_dfe_stat(stats_subs[s], dats[stats[s][0]+'.DFE'].loc[dats[stats[s][0]+'.DFE']['DFE.statistic']==stats[s][1]].iloc[0], \n",
    "             segs_use[stats[s][0]], [seg_to_fit[seg] for seg in segs_use[stats[s][0]]], show_pvals=False, qtl_color=False, point_s=1.5)\n",
    "        stats_subs[s].annotate(stats[s][3], fontsize=10, xy=(-0.3, 1.05), xycoords=\"axes fraction\", horizontalalignment=\"center\")\n",
    "        stats_subs[s].set_title(stats[s][2], fontsize=7, y=0.9)\n",
    "        stats_subs[s].set_xlabel('Background Fitness', fontsize=6)\n",
    "    \n",
    "    quartile_histo(hist_sub, 'TP')\n",
    "    hist_sub.set_ylabel('Fraction of Mutations', fontsize=6)\n",
    "    hist_sub.set_xlabel('Fitness Effect', fontsize=6, x=0.6)\n",
    "    hist_sub.legend(fontsize=6, frameon=False, loc='upper left')\n",
    "    hist_sub.annotate('D', fontsize=10, xy=(-0.15, 1.1), xycoords=\"axes fraction\", horizontalalignment=\"center\")\n",
    "    f.add_subplot(hist_sub)\n",
    "    hist_sub.tick_params(axis='both', which='major', labelsize=6, pad=all_pads)\n",
    "    sns.despine(ax=hist_sub)\n",
    "    jnk = [stats_subs[x].tick_params(axis='both', which='major', labelsize=6, pad=all_pads) for x in range(4)]\n",
    "    jnk = [sns.despine(ax=stats_subs[x]) for x in range(4)]\n",
    "    jnk = [f.add_subplot(stats_subs[x]) for x in range(4)]\n",
    "    f.savefig(outname, background='transparent', bbox_inches='tight', pad_inches=0.1)\n",
    "             \n",
    "    \n",
    "make_dfe_plot(['BT', 'TP'], '../../Figures/Figure2.pdf')"
   ]
  },
  {
   "cell_type": "markdown",
   "metadata": {},
   "source": [
    "## Quartile histogram plot for BT, for supplement"
   ]
  },
  {
   "cell_type": "code",
   "execution_count": 109,
   "metadata": {},
   "outputs": [],
   "source": [
    "def bt_dfe_plot(hist_sub):\n",
    "    all_pads = 1\n",
    "    dfe_range = [-0.15, 0.07]\n",
    "    quartile_histo(hist_sub, 'BT')\n",
    "    hist_sub.set_xlabel('Fitness Effect', fontsize=6, x=0.6)\n",
    "    hist_sub.legend(fontsize=6, frameon=False, loc='upper left')\n",
    "    hist_sub.tick_params(axis='both', which='major', labelsize=6, pad=all_pads)\n",
    "    sns.despine(ax=hist_sub)"
   ]
  },
  {
   "cell_type": "markdown",
   "metadata": {},
   "source": [
    "## Plotting DFE statistics for each experiment:"
   ]
  },
  {
   "cell_type": "code",
   "execution_count": 132,
   "metadata": {},
   "outputs": [
    {
     "name": "stdout",
     "output_type": "stream",
     "text": [
      "0.0343397895799612\n",
      "0.2946106639374643\n",
      "0.7649201675089152\n",
      "0.4296727783285341\n",
      "0.01912266155192321\n",
      "0.7454871694188404\n"
     ]
    },
    {
     "name": "stderr",
     "output_type": "stream",
     "text": [
      "/anaconda3/lib/python3.7/site-packages/ipykernel_launcher.py:27: FutureWarning: Method .as_matrix will be removed in a future version. Use .values instead.\n"
     ]
    },
    {
     "name": "stdout",
     "output_type": "stream",
     "text": [
      "4.125398447394122e-31\n",
      "7.386069094834634e-14\n",
      "4.088895290612011e-12\n",
      "0.09793271703575407\n",
      "3.7443228269879627e-22\n",
      "1.9943604376004995e-07\n"
     ]
    }
   ],
   "source": [
    "def plot_dfe_statistics(exp, subs):\n",
    "    all_pads = 1\n",
    "    dfe_range = [-0.15, 0.07]\n",
    "    pl.subplots_adjust(wspace=0.4, hspace=0.5)\n",
    "    stats = ['mean', 'variance', 'skew', 'kurtosis', 'significant.beneficial.mutations', 'significant.deleterious.mutations']\n",
    "    stat_names = ['DFE Mean', 'DFE Variance', 'DFE Skew', 'DFE Kurtosis', '# Sig. Bene. Muts.', '# Sig. Del. Muts.']\n",
    "    s = 0\n",
    "    for suba in subs:\n",
    "        for sub in suba:\n",
    "            plot_dfe_stat(sub, dats[exp+'.DFE'].loc[dats[exp+'.DFE']['DFE.statistic']==stats[s]].iloc[0], segs_use[exp], \n",
    "                          [seg_to_fit[seg] for seg in segs_use[exp]], show_pvals=True, qtl_color=True,point_s=1.5)\n",
    "            sub.set_title(stat_names[s], fontsize=7, y=0.9)\n",
    "            sub.set_xlabel('Background Fitness', fontsize=6)\n",
    "            sub.tick_params(axis='both', which='major', labelsize=6)\n",
    "            s += 1\n",
    "    sns.despine()\n",
    "\n",
    "    \n",
    "f = pl.figure(figsize=(7.25, 7), dpi=300)\n",
    "gs0 = gridspec.GridSpec(14, 2)\n",
    "hist_gs = gridspec.GridSpecFromSubplotSpec(1, 1, subplot_spec=gs0[:5,:1])\n",
    "hist_sub = pl.Subplot(f, hist_gs[0])\n",
    "f.add_subplot(hist_sub)\n",
    "bt_gs = gridspec.GridSpecFromSubplotSpec(2, 3, subplot_spec=gs0[6:,:])\n",
    "bt_subs = [[pl.Subplot(f, bt_gs[i, j]) for i in range(2)] for j in range(3)]\n",
    "jnk = [[f.add_subplot(bt_subs[j][i]) for i in range(2)] for j in range(3)]\n",
    "bt_dfe_plot(hist_sub)\n",
    "plot_dfe_statistics('BT', bt_subs)\n",
    "hist_sub.annotate('A', fontsize=10, xy=(-0.12, 1.03), xycoords=\"axes fraction\", horizontalalignment=\"center\")\n",
    "bt_subs[0][0].annotate('B', fontsize=10, xy=(-0.2, 1.1), xycoords=\"axes fraction\", horizontalalignment=\"center\")\n",
    "f.savefig('../../Figures/supp_figs/BT_dfe_fig.pdf', background='transparent', bbox_inches='tight', pad_inches=0.1)\n",
    "\n",
    "\n",
    "f, subs = pl.subplots(2, 3, figsize=(7.25, 4), dpi=300)\n",
    "plot_dfe_statistics('TP', subs)\n",
    "f.savefig('../../Figures/supp_figs/TP_dfe_stats.pdf', background='transparent', bbox_inches='tight', pad_inches=0.1)"
   ]
  },
  {
   "cell_type": "markdown",
   "metadata": {},
   "source": [
    "## Genetic Determinant Plots"
   ]
  },
  {
   "cell_type": "code",
   "execution_count": 97,
   "metadata": {},
   "outputs": [],
   "source": [
    "def make_single_determinant_plot(sub, df_row, segs, show_title=True, plot_w_color=True, one_qtl=None):\n",
    "    measured = [seg for seg in segs if pd.notnull(df_row[seg + '.mean.s'])]\n",
    "    sub.axhline(y=0, xmin=0, xmax=1, color='#333333', linestyle='dashed', alpha=0.5, lw=1)\n",
    "    xs = [seg_to_fit[measured[s]] for s in range(len(measured))]\n",
    "    ys = [df_row[measured[s] + '.mean.s'] for s in range(len(measured))]\n",
    "    ye = [df_row[measured[s] + '.stderr.s'] for s in range(len(measured))]\n",
    "    plot_w_qtl_color(sub, df_row, show_title, measured, xs, ys, plot_w_color, yerrs=ye, qtl_to_show=one_qtl)\n",
    "    sub.set_xlim([-0.16, 0.12])\n",
    "    sub.set_ylim([-0.2, 0.08])\n",
    "\n",
    "\n",
    "# TWO ALTERNATE WAYS OF LOOKING AT X VS S (FOR SUPPLEMENTARY FIGS)\n",
    "     \n",
    "def make_one_to_one_determinant_plot(sub, df_row, segs, show_title=True, plot_w_color=True):\n",
    "    measured = [seg for seg in segs if pd.notnull(df_row[seg + '.mean.s'])]\n",
    "    sub.plot([-0.2, 0.15], [-0.2, 0.15], color='#333333', linestyle='dashed', alpha=0.5, lw=1)\n",
    "    xs = [seg_to_fit[measured[s]] for s in range(len(measured))]\n",
    "    ys = [seg_to_fit[measured[s]] + df_row[measured[s] + '.mean.s'] for s in range(len(measured))]\n",
    "    ye = [df_row[measured[s] + '.stderr.s'] for s in range(len(measured))]\n",
    "    plot_w_qtl_color(sub, df_row, show_title, measured, xs, ys, plot_w_color, yerrs=ye)\n",
    "    sub.set_xlim([-0.16, 0.12])\n",
    "    sub.set_ylim([-0.25, 0.09])\n",
    "    sub.set_xlabel('Background Fitness', fontsize=7)\n",
    "    sub.set_ylabel('Final Fitness', fontsize=7)\n",
    "        \n",
    "def make_reversion_determinant_plot(sub, df_row, segs, show_title=True, plot_w_color=True):\n",
    "    measured = [seg for seg in segs if pd.notnull(df_row[seg + '.mean.s'])]\n",
    "    sub.axhline(y=0, xmin=0, xmax=1, color='#333333', linestyle='dashed', alpha=0.5, lw=1)\n",
    "    xs = [seg_to_fit[measured[s]] + df_row[measured[s] + '.mean.s'] for s in range(len(measured))]\n",
    "    ys = [-1*df_row[measured[s] + '.mean.s'] for s in range(len(measured))]\n",
    "    xe = [df_row[measured[s] + '.stderr.s'] for s in range(len(measured))]\n",
    "    plot_w_qtl_color(sub, df_row, show_title, measured, xs, ys, plot_w_color, xerrs=xe, yerrs=xe) # shared errors\n",
    "    sub.set_xlim([-0.25, 0.12])\n",
    "    sub.set_ylim([-0.1, 0.2])\n",
    "    sub.set_xlabel('Final Fitness', fontsize=7)\n",
    "    sub.set_ylabel('Reversion Fitness Effect', fontsize=7)"
   ]
  },
  {
   "cell_type": "markdown",
   "metadata": {},
   "source": [
    "## CHOOSING EXAMPLE MUTATIONS:"
   ]
  },
  {
   "cell_type": "code",
   "execution_count": 98,
   "metadata": {},
   "outputs": [],
   "source": [
    "refs = [\n",
    "    'TATATTGAACTTTAC' # reference\n",
    "]\n",
    "ex_edges = [\n",
    "    'GAACTCAGGTTCCAT',  #in MME1\n",
    "    'AGTGTTAATCAGACC',  #nearby PAH1\n",
    "    'TTATATTTATTTGCT',  #in SIR3\n",
    "    'GTTTAGCTTCCGTTG',  #in RPL16A\n",
    "    'CTTTCTTGTGTATTT',  #in BRR1\n",
    "    'TGGAGTCTTTGTTGA',  #in NOT3\n",
    "    'TCAACAACCTATGCA',  #in EBS1\n",
    "    'AGTGTATGATAATAT',  #nearby KRI1\n",
    "    'CCAACACAGGCTTCG',  #in NOP16\n",
    "    'TCAAAGCATGAAAAA',  #in SUM1\n",
    "    'CAAGGATCCCCGTAG',  #in BUL1\n",
    "]\n",
    "examples = refs + ex_edges "
   ]
  },
  {
   "cell_type": "markdown",
   "metadata": {},
   "source": [
    "# FIGURE 3"
   ]
  },
  {
   "cell_type": "code",
   "execution_count": 99,
   "metadata": {},
   "outputs": [
    {
     "name": "stderr",
     "output_type": "stream",
     "text": [
      "/anaconda3/lib/python3.7/site-packages/ipykernel_launcher.py:27: FutureWarning: Method .as_matrix will be removed in a future version. Use .values instead.\n"
     ]
    }
   ],
   "source": [
    "def make_examples_figure3(outname, gm, plot_errors=False, plot_std_dev=True):\n",
    "    df = tp.loc[tp['num.measured']>=50].sort_values(by='var', ascending=True)\n",
    "    f, subps = pl.subplots(4, 3, figsize=(7.25, 7.25), dpi=300)\n",
    "    pl.subplots_adjust(hspace=0.4)\n",
    "    c = 0\n",
    "    for subarr in subps:\n",
    "        r = 0\n",
    "        for sub in subarr:\n",
    "            edge = examples[c*3+r]\n",
    "            df_row = tp_all.loc[tp_all['Edge']==edge].iloc[0]\n",
    "            make_single_determinant_plot(sub, df_row, segs_all['TP'])\n",
    "            sub.set_xlim([-0.16, 0.12])\n",
    "            sub.set_ylim([-0.2, 0.1])\n",
    "            sub.tick_params(axis='both', which='major', labelsize=7, pad=1)\n",
    "            r += 1\n",
    "        c += 1\n",
    "    \n",
    "    subps[1][0].annotate('Fitness Effect', fontsize=9, xy=(-0.25, -0.16), xycoords='axes fraction', rotation=90, ha='center', va='center')\n",
    "    subps[3][1].annotate('Background Fitness', fontsize=9, xy=(0.5, -0.2), xycoords='axes fraction', ha='center', va='top')\n",
    "    sns.despine()\n",
    "    f.savefig(outname, background='transparent', bbox_inches='tight', pad_inches=0.1)\n",
    "    \n",
    "make_examples_figure3('../../Figures/Figure3.pdf', gm, plot_errors=True)"
   ]
  },
  {
   "cell_type": "code",
   "execution_count": 100,
   "metadata": {},
   "outputs": [
    {
     "name": "stderr",
     "output_type": "stream",
     "text": [
      "/anaconda3/lib/python3.7/site-packages/ipykernel_launcher.py:27: FutureWarning: Method .as_matrix will be removed in a future version. Use .values instead.\n"
     ]
    }
   ],
   "source": [
    "def make_examples_figure_reversions(outname, gm, plot_errors=False, plot_std_dev=True):\n",
    "    df = tp.loc[tp['num.measured']>=50].sort_values(by='var', ascending=True)\n",
    "    f, subps = pl.subplots(4, 3, figsize=(7.25, 7.25), dpi=300)\n",
    "    pl.subplots_adjust(hspace=0.4)\n",
    "    c = 0\n",
    "    for subarr in subps:\n",
    "        r = 0\n",
    "        for sub in subarr:\n",
    "            edge = examples[c*3+r]\n",
    "            df_row = tp_all.loc[tp_all['Edge']==edge].iloc[0]\n",
    "            make_reversion_determinant_plot(sub, df_row, segs_all['TP'])\n",
    "            sub.tick_params(axis='both', which='major', labelsize=7, pad=1)\n",
    "            if r > 0:\n",
    "                sub.set_ylabel('')\n",
    "            if c < len(subps)-1:\n",
    "                sub.set_xlabel('')\n",
    "            r += 1\n",
    "        c += 1\n",
    "\n",
    "    sns.despine()\n",
    "    f.savefig(outname, background='transparent', bbox_inches='tight', pad_inches=0.1)\n",
    "    \n",
    "make_examples_figure_reversions('../../Figures/supp_figs/reversions_like_Figure3.pdf', gm, plot_errors=True)"
   ]
  },
  {
   "cell_type": "markdown",
   "metadata": {},
   "source": [
    "# FIGURE 4"
   ]
  },
  {
   "cell_type": "code",
   "execution_count": 101,
   "metadata": {},
   "outputs": [
    {
     "name": "stderr",
     "output_type": "stream",
     "text": [
      "/anaconda3/lib/python3.7/site-packages/matplotlib/pyplot.py:880: MatplotlibDeprecationWarning: \n",
      "Using pyplot.axes(ax) with ax an Axes argument is deprecated. Please use pyplot.sca(ax) instead.\n",
      "  message=\"Using pyplot.axes(ax) with ax an Axes \"\n"
     ]
    }
   ],
   "source": [
    "def make_determinants_figure(outname):\n",
    "    \n",
    "    df = tp.loc[tp['num.measured']>=50].sort_values(by='var', ascending=False)\n",
    "    f = pl.figure(figsize=(7.25, 4), dpi=300)\n",
    "    gs0 = gridspec.GridSpec(12, 5)\n",
    "    top_gs = gridspec.GridSpecFromSubplotSpec(1, 1, subplot_spec=gs0[5:11,:])\n",
    "    top_sub = pl.Subplot(f, top_gs[0])    \n",
    "    hist_gs = gridspec.GridSpecFromSubplotSpec(1, 1, subplot_spec=gs0[:3,:1])\n",
    "    hist_sub = pl.Subplot(f, hist_gs[0])    \n",
    "    f.add_subplot(top_sub)\n",
    "    f.add_subplot(hist_sub)\n",
    "    \n",
    "    gene_descrips = list(df['Gene.Use'])\n",
    "    edges_in_order = list(df['Edge'])\n",
    "    example_loc = len(df)+7\n",
    "    xbars = np.array([i for i in range(len(df))] + [example_loc])\n",
    "    \n",
    "    top_sub.tick_params(axis='y', which='major', labelsize=6, pad=1)\n",
    "    top_sub.tick_params(axis='x', which='major', labelsize=5, pad=-2)\n",
    "    top_sub.set_xlim([-1, len(gene_descrips)+16])\n",
    "    ex_dev, ex_full, ex_qtl, ex_x = 0.05, 0.03, 0.022, 0.007\n",
    "    top_sub.bar(xbars, list(np.sqrt(df['var'])) + [ex_dev], color='none', edgecolor='black', lw=0.5, width=0.75)\n",
    "    top_sub.bar(xbars, list(np.sqrt(df['full_sig_only_r2']*df['var'])) + [ex_full], color='#BBBBBB', edgecolor='#BBBBBB', lw=0.5, width=0.75)\n",
    "    top_sub.scatter(xbars-0.05, list(np.sqrt(df['x_sig_only_r2']*df['var'])) + [ex_x], color='#222222', marker='x', zorder=3, s=1.5)\n",
    "    top_sub.scatter(xbars-0.05, list(np.sqrt(df['qtl_sig_only_r2']*df['var'])) + [ex_qtl], color=colors[1], marker='o', zorder=4, s=1.5)\n",
    "    \n",
    "    pl.axes(top_sub)\n",
    "    pl.xticks(xbars, [i.split(' ')[1] for i in gene_descrips], rotation='vertical', fontsize=5)\n",
    "    ticks = top_sub.get_xticklabels()\n",
    "    cd = {'in': 'red', 'nearby': 'black'}\n",
    "    jnk = [ticks[i].set_color(cd[gene_descrips[i].split(' ')[0]]) for i in range(len(gene_descrips))]\n",
    "\n",
    "    top_sub.annotate('$\\sigma_{XM}$\\n(variance\\nexplained by\\nX model)$^{1/2}$', xy=(example_loc+8, ex_x), xycoords='data', fontsize=6, ha='center', va='center')\n",
    "    top_sub.plot([example_loc+0.7, example_loc+3], [ex_x, ex_x], c='k')\n",
    "\n",
    "    top_sub.annotate(\"$\\sigma_{FM}$\\n(variance\\nexplained by\\nfull model)$^{1/2}$\", xy=(example_loc+8, ex_full), xycoords='data', fontsize=6, ha='center', va='center')\n",
    "    top_sub.plot([example_loc+0.7, example_loc+3], [ex_full, ex_full], c='k')\n",
    "\n",
    "    top_sub.annotate('$\\sigma_{QM}$\\n(variance\\nexplained by\\nQTL model)$^{1/2}$', xy=(example_loc-8, ex_qtl), xycoords='data', fontsize=6, ha='center', va='center')\n",
    "    top_sub.plot([example_loc-0.7, example_loc-3], [ex_qtl, ex_qtl], c='k')\n",
    "\n",
    "    top_sub.annotate('$\\sigma_s$\\n(std dev of\\nfitness effect)', xy=(example_loc-8, ex_dev), xycoords='data', fontsize=6, ha='center', va='center')\n",
    "    top_sub.plot([example_loc-0.7, example_loc-3], [ex_dev, ex_dev], c='k')\n",
    "\n",
    "    for edge in ex_edges:\n",
    "        top_sub.annotate('*', ((edges_in_order.index(edge)+0.85)/(len(gene_descrips)+17), -0.3), fontsize=8, xycoords='axes fraction', \n",
    "                         zorder=5, horizontalalignment=\"center\")\n",
    "\n",
    "    sns.despine(left=True, bottom=True, ax=top_sub)\n",
    "    \n",
    "    hist_sub.hist(df['x_slope'], bins=[-0.8+0.1*i for i in range(11)])\n",
    "    hist_sub.tick_params(axis='x', which='major', labelsize=6, pad=1)\n",
    "    hist_sub.set_xlabel('Regression slope (s vs. x)', fontsize=7)\n",
    "    hist_sub.set_yticks([])\n",
    "    sns.despine(left=True, ax=hist_sub)\n",
    "    \n",
    "    top_sub.tick_params(axis=\"x\", bottom=False)\n",
    "    top_sub.annotate('B', fontsize=10, xy=(-0.05, 1.02), xycoords=\"axes fraction\", horizontalalignment=\"center\")\n",
    "    hist_sub.annotate('A', fontsize=10, xy=(-0.29, 0.95), xycoords=\"axes fraction\", horizontalalignment=\"center\")\n",
    "    f.savefig(outname, background='transparent', bbox_inches='tight', pad_inches=0.1)\n",
    "    \n",
    "make_determinants_figure('../../Figures/Figure4.pdf')"
   ]
  },
  {
   "cell_type": "markdown",
   "metadata": {},
   "source": [
    "## Determinant plots for every mutation, also plotting initial fitness vs. final fitness, and reversion fitness effect vs. background fitness\n",
    "* Note that the axes share errors in the right two columns (but not in the left column (figure 3 style plots)), which could lead to spurious correlations"
   ]
  },
  {
   "cell_type": "code",
   "execution_count": 102,
   "metadata": {},
   "outputs": [
    {
     "name": "stderr",
     "output_type": "stream",
     "text": [
      "/anaconda3/lib/python3.7/site-packages/ipykernel_launcher.py:27: FutureWarning: Method .as_matrix will be removed in a future version. Use .values instead.\n"
     ]
    }
   ],
   "source": [
    "def plot_5(df_rows, outname, gm, plot_errors=False, plot_std_dev=True):\n",
    "    f, subps = pl.subplots(5, 3, figsize=(7.25, 9.5), dpi=300)\n",
    "    pl.subplots_adjust(hspace=0.6, wspace=0.5)\n",
    "    c = 0\n",
    "    for subarr in subps:\n",
    "        if len(df_rows) > c:\n",
    "            make_single_determinant_plot(subarr[0], df_rows[c], segs_all['TP'])\n",
    "            make_one_to_one_determinant_plot(subarr[1], df_rows[c], segs_all['TP'])\n",
    "            make_reversion_determinant_plot(subarr[2], df_rows[c], segs_all['TP'])\n",
    "            subarr[0].set_xlabel('Background Fitness', fontsize=7)\n",
    "            subarr[0].set_ylabel('Fitness Effect', fontsize=7)\n",
    "            for sub in subarr:\n",
    "                sub.tick_params(axis='both', which='major', labelsize=6, pad=1)\n",
    "        else:\n",
    "            jnk = [sub.set_visible(False) for sub in subarr]\n",
    "        c += 1\n",
    "\n",
    "    sns.despine()\n",
    "    f.savefig(outname, background='transparent', bbox_inches='tight', pad_inches=0.1)\n",
    "    pl.close(\"all\")\n",
    "    \n",
    "rows = []\n",
    "for i, r in tp.sort_values(by='var', ascending=False).iterrows():\n",
    "    rows.append(r)\n",
    "for j in range(int(np.ceil(len(rows)/5))):\n",
    "    plot_5(rows[j*5:(j+1)*5], '../../Figures/supp_figs/full_determinants_' + str(j+1) + '.pdf', gm, plot_errors=True)"
   ]
  },
  {
   "cell_type": "markdown",
   "metadata": {},
   "source": [
    "## Just the normal determinant plots now:"
   ]
  },
  {
   "cell_type": "code",
   "execution_count": 107,
   "metadata": {},
   "outputs": [],
   "source": [
    "def plot_15(df_rows, outname, gm, plot_errors=False, plot_std_dev=True, qtl_focus=dict(), qtl_group=None):\n",
    "    f, subps = pl.subplots(5, 3, figsize=(7.25, 9.5), dpi=300)\n",
    "    pl.subplots_adjust(hspace=0.6, wspace=0.5)\n",
    "    c = 0\n",
    "    if qtl_group:\n",
    "        f.suptitle(qtl_group, y=0.95)\n",
    "    for subarr in subps:\n",
    "        for sub in subarr:\n",
    "            if len(df_rows) > c:\n",
    "                qtl = qtl_focus.setdefault(df_rows[c]['Edge'], None)\n",
    "                make_single_determinant_plot(sub, df_rows[c], segs_all['TP'], one_qtl=qtl)\n",
    "                sub.set_xlabel('Background Fitness', fontsize=7)\n",
    "                sub.set_ylabel('Fitness Effect', fontsize=7)\n",
    "                sub.tick_params(axis='both', which='major', labelsize=6, pad=1)\n",
    "                if qtl:\n",
    "                    sub.set_title(str(df_rows[c]['Gene.Use'] + ' qtl: ' + qtl), fontsize=7, y=0.95)\n",
    "                if df_rows[c]['Type'] == 'Reference':\n",
    "                    sub.set_title('REFERENCE: ' + str(df_rows[c]['Gene.Use']), fontsize=7, y=0.95)\n",
    "            else:\n",
    "                jnk = [sub.set_visible(False) for sub in subarr]\n",
    "            c += 1\n",
    "\n",
    "    sns.despine()\n",
    "    f.savefig(outname, background='transparent', bbox_inches='tight', pad_inches=0.1)\n",
    "    pl.close(\"all\")\n"
   ]
  },
  {
   "cell_type": "code",
   "execution_count": null,
   "metadata": {},
   "outputs": [],
   "source": [
    "rows = []\n",
    "for i, r in tp_all.sort_values(by='var', ascending=False).iterrows():\n",
    "    rows.append(r)\n",
    "for j in range(int(np.ceil(len(rows)/15))):\n",
    "    plot_15(rows[j*15:(j+1)*15], '../../Figures/supp_figs/just_determinants_' + str(j+1) + '.pdf', gm, plot_errors=True)"
   ]
  },
  {
   "cell_type": "markdown",
   "metadata": {},
   "source": [
    "## Making determinant plots for all mutations affected by each multi-hit qtl:"
   ]
  },
  {
   "cell_type": "code",
   "execution_count": 108,
   "metadata": {},
   "outputs": [
    {
     "name": "stderr",
     "output_type": "stream",
     "text": [
      "/anaconda3/lib/python3.7/site-packages/ipykernel_launcher.py:4: FutureWarning: Method .as_matrix will be removed in a future version. Use .values instead.\n",
      "  after removing the cwd from sys.path.\n",
      "/anaconda3/lib/python3.7/site-packages/ipykernel_launcher.py:27: FutureWarning: Method .as_matrix will be removed in a future version. Use .values instead.\n"
     ]
    }
   ],
   "source": [
    "qtl_df = pd.read_csv('../../Analysis/TP_QTL_results.csv')\n",
    "qgs = [i for i in set(qtl_df['QTL_group']) if pd.notnull(i)]\n",
    "for qg in qgs:\n",
    "    edge_to_qtl = {i[1]: i[0] for i in qtl_df.loc[qtl_df['QTL_group']==qg].as_matrix(['QTL', 'Edge'])}\n",
    "    rows = []\n",
    "    for i, r in tp.loc[tp['Edge'].isin(edge_to_qtl)].sort_values(by='var', ascending=False).iterrows():\n",
    "        rows.append(r)\n",
    "    for j in range(int(np.ceil(len(rows)/15))):\n",
    "        plot_15(rows[j*15:(j+1)*15], '../../Figures/supp_figs/determinants_' + qg + '_' + str(j+1) + '.pdf', gm, plot_errors=True, qtl_focus=edge_to_qtl, qtl_group=qg)"
   ]
  },
  {
   "cell_type": "markdown",
   "metadata": {},
   "source": [
    "## Correlation plots"
   ]
  },
  {
   "cell_type": "code",
   "execution_count": 137,
   "metadata": {},
   "outputs": [],
   "source": [
    "segs_w_data_in_both_exps = ['LK4-A04',\n",
    " 'LK1-E09',\n",
    " 'LK4-H11',\n",
    " 'LK2-A12',\n",
    " 'LK4-A12',\n",
    " 'LK4-D01',\n",
    " 'LK3-G02',\n",
    " 'LK3-D09',\n",
    " 'LK2-E07',\n",
    " 'LK2-B04',\n",
    " 'LK1-C11',\n",
    " 'LK4-B12',\n",
    " 'LK1-C09',\n",
    " 'LK3-D08',\n",
    " 'LK2-A01',\n",
    " 'LK1-D06']\n",
    "\n",
    "def make_correlation_plot(segs, td, xvar, yvar, xerr_var, yerr_var, xlabel, ylabel, criteria_one, criteria_two, output_name):\n",
    "    nrows = int(np.ceil(len(segs)/4))\n",
    "    fig, subps = pl.subplots(nrows, 4, figsize=(16, nrows*(16/5)), sharex=True, sharey=True)\n",
    "    if nrows == 1:\n",
    "        subps = [subps]\n",
    "    for i in range(nrows):\n",
    "        for j in range(4):\n",
    "            if i*4 + j < len(segs):\n",
    "                seg = segs[i*4 + j]\n",
    "                d = td.loc[td[seg+criteria_one[0]] >= criteria_one[1]].loc[td[seg+criteria_two[0]] >= criteria_two[1]]\n",
    "                subps[i][j].plot([-0.15, 0.1], [-0.15, 0.1], linestyle='dashed', c='k', alpha=0.5)\n",
    "                subps[i][j].errorbar(data=d, x=seg+xvar, y=seg+yvar, xerr=seg+xerr_var, yerr=seg+yerr_var, c='k', \n",
    "                                     marker='.', linestyle='', alpha=0.5)\n",
    "                subps[i][j].set_xlim([-0.15, 0.1])\n",
    "                subps[i][j].set_ylim([-0.15, 0.1])\n",
    "                subps[i][j].tick_params(axis='both', which='major', labelsize=12)\n",
    "                if j == 0:\n",
    "                    subps[i][j].set_ylabel(ylabel, fontsize=14)\n",
    "                if i == nrows-1:\n",
    "                    subps[i][j].set_xlabel(xlabel, fontsize=14)\n",
    "                subps[i][j].set_title(seg, y=0.9, fontsize=16)\n",
    "            else:\n",
    "                subps[i][j].axis('off')\n",
    "    sns.despine()\n",
    "    pl.tight_layout()\n",
    "    fig.savefig(output_name, background='transparent')\n",
    "    pl.close('all')"
   ]
  },
  {
   "cell_type": "code",
   "execution_count": null,
   "metadata": {},
   "outputs": [],
   "source": [
    "## Making correlation plots\n",
    "make_correlation_plot(segs_w_data_in_both_exps, bt, '.rep1.s', '.rep2.s', '.rep1.stderr.s', '.rep2.stderr.s', 'mean bc s rep 1', 'mean bc s rep 2',\n",
    "                     ('.rep1.cbcs', 2), ('.rep2.cbcs', 2), '../../Figures/supp_figs/BT_replicate_correlations.png')\n",
    "make_correlation_plot(segs_w_data_in_both_exps, tp, '.rep1.s', '.rep2.s', '.rep1.stderr.s', '.rep2.stderr.s', 'mean bc s rep 1', 'mean bc s rep 2',\n",
    "                     ('.rep1.cbcs', 2), ('.rep2.cbcs', 2), '../../Figures/supp_figs/TP_replicate_correlation_examples.png')\n",
    "dm = tp.merge(bt, on='Edge', how='inner', suffixes=('_TP', '_BT'))\n",
    "make_correlation_plot(segs_w_data_in_both_exps, dm, '.mean.s_BT', '.mean.s_TP', '.stderr.s_BT', '.stderr.s_TP', exps['BT'] + ' s', exps['TP'] + ' s',\n",
    "                     ('.total.cbcs_BT', 3), ('.total.cbcs_TP', 3), '../../Figures/supp_figs/TP_BT_correlations.png')"
   ]
  },
  {
   "cell_type": "code",
   "execution_count": 161,
   "metadata": {},
   "outputs": [],
   "source": [
    "def make_correlation_panel(segs, td, xvar, yvar, xerr_var, yerr_var, xlabel, ylabel, criteria_one, criteria_two, subps):\n",
    "    for i in range(3):\n",
    "        for j in range(6):\n",
    "            if i*6 + j < len(segs):\n",
    "                seg = segs[i*6 + j]\n",
    "                d = td.loc[td[seg+criteria_one[0]] >= criteria_one[1]].loc[td[seg+criteria_two[0]] >= criteria_two[1]]\n",
    "                subps[i][j].plot([-0.15, 0.1], [-0.15, 0.1], linestyle='dashed', c='k', alpha=0.5, lw=0.5)\n",
    "                subps[i][j].errorbar(data=d, x=seg+xvar, y=seg+yvar, xerr=seg+xerr_var, yerr=seg+yerr_var, c='k', \n",
    "                                     marker='.', linestyle='', alpha=0.5, lw=0.5, markersize=1)\n",
    "                subps[i][j].set_xlim([-0.15, 0.1])\n",
    "                subps[i][j].set_ylim([-0.15, 0.1])\n",
    "                subps[i][j].tick_params(axis='both', which='major', labelsize=6)\n",
    "                if j == 0 and i == 1:\n",
    "                    subps[i][j].set_ylabel(ylabel, fontsize=9)\n",
    "                if i == 2 and j == 2:\n",
    "                    subps[i][j].set_xlabel(xlabel, fontsize=9, x=1.2)\n",
    "                subps[i][j].set_title(seg, y=0.8, fontsize=7)\n",
    "            else:\n",
    "                subps[i][j].axis('off')"
   ]
  },
  {
   "cell_type": "code",
   "execution_count": 163,
   "metadata": {},
   "outputs": [],
   "source": [
    "f = pl.figure(figsize=(7.25, 10), dpi=300)\n",
    "gs0 = gridspec.GridSpec(14, 1)\n",
    "pl.subplots_adjust(wspace=0.4, hspace=0.4)\n",
    "x = 6\n",
    "y = 3\n",
    "gs1 = gridspec.GridSpecFromSubplotSpec(y, x, subplot_spec=gs0[:4,:])\n",
    "gs2 = gridspec.GridSpecFromSubplotSpec(y, x, subplot_spec=gs0[5:9,:])\n",
    "gs3 = gridspec.GridSpecFromSubplotSpec(y, x, subplot_spec=gs0[10:,:])\n",
    "subs1 = [[pl.Subplot(f, gs1[j, i]) for i in range(x)] for j in range(y)]\n",
    "subs2 = [[pl.Subplot(f, gs2[j, i]) for i in range(x)] for j in range(y)]\n",
    "subs3 = [[pl.Subplot(f, gs3[j, i]) for i in range(x)] for j in range(y)]\n",
    "jnk = [[[f.add_subplot(s[j][i]) for i in range(x)] for j in range(y)] for s in [subs1, subs2, subs3]]\n",
    "make_correlation_panel(segs_w_data_in_both_exps, bt, '.rep1.s', '.rep2.s', '.rep1.stderr.s', '.rep2.stderr.s', 'mean bc s rep 1', 'mean bc s rep 2',\n",
    "                     ('.rep1.cbcs', 2), ('.rep2.cbcs', 2), subs1)\n",
    "make_correlation_panel(segs_w_data_in_both_exps, tp, '.rep1.s', '.rep2.s', '.rep1.stderr.s', '.rep2.stderr.s', 'mean bc s rep 1', 'mean bc s rep 2',\n",
    "                     ('.rep1.cbcs', 2), ('.rep2.cbcs', 2), subs2)\n",
    "dm = tp.merge(bt, on='Edge', how='inner', suffixes=('_TP', '_BT'))\n",
    "make_correlation_panel(segs_w_data_in_both_exps, dm, '.mean.s_BT', '.mean.s_TP', '.stderr.s_BT', '.stderr.s_TP', exps['BT'] + ' s', exps['TP'] + ' s',\n",
    "                     ('.total.cbcs_BT', 3), ('.total.cbcs_TP', 3), subs3)\n",
    "\n",
    "subs1[0][0].annotate('A', fontsize=10, xy=(-0.6, 1.35), xycoords=\"axes fraction\", horizontalalignment=\"center\")\n",
    "subs2[0][0].annotate('B', fontsize=10, xy=(-0.6, 1.35), xycoords=\"axes fraction\", horizontalalignment=\"center\")\n",
    "subs3[0][0].annotate('C', fontsize=10, xy=(-0.6, 1.35), xycoords=\"axes fraction\", horizontalalignment=\"center\")\n",
    "\n",
    "sns.despine()\n",
    "\n",
    "f.savefig('../../Figures/supp_figs/all_correlations.png', background='transparent', bbox_inches='tight', pad_inches=0.1)\n"
   ]
  },
  {
   "cell_type": "markdown",
   "metadata": {},
   "source": [
    "## Map of insertions with measurements"
   ]
  },
  {
   "cell_type": "code",
   "execution_count": null,
   "metadata": {},
   "outputs": [],
   "source": [
    "chromo_lens = {\n",
    "    'chr01': 230218,\n",
    "    'chr02': 813184,\n",
    "    'chr03': 316620,\n",
    "    'chr04': 1531933,\n",
    "    'chr05': 576874,\n",
    "    'chr06': 270161,\n",
    "    'chr07': 1090940,\n",
    "    'chr08': 562643,\n",
    "    'chr09': 439888,\n",
    "    'chr10': 745751,\n",
    "    'chr11': 666816,\n",
    "    'chr12': 1078177,\n",
    "    'chr13': 924431,\n",
    "    'chr14': 784333,\n",
    "    'chr15': 1091291,\n",
    "    'chr16': 948066,\n",
    "}\n",
    "\n",
    "# QTL map\n",
    "fig, subs = pl.subplots(16, 1, figsize=(16, 14), sharex=True, sharey=True)\n",
    "for chromo_s, hit_loc, gu in bt.loc[pd.notnull(bt['chromosome'])].loc[bt['num.measured']>0].as_matrix(['chromosome', 'insertion_edge', 'Gene.Use']):\n",
    "    chromo = chromo_s[3:]\n",
    "    #random_y = np.random.random()*0.7+0.3\n",
    "    if 'in ' in str(gu):\n",
    "        subs[int(chromo)-1].plot([hit_loc, hit_loc], [0, 0.4], c='r', zorder=1)\n",
    "    else:\n",
    "        subs[int(chromo)-1].plot([hit_loc, hit_loc], [0, 0.4], c='#333333', zorder=1)\n",
    "\n",
    "for i in range(16):\n",
    "    subs[i].plot([0, chromo_lens['chr' + str(i+1).zfill(2)]], [0.15, 0.15], lw=4, solid_capstyle='round', c='b', zorder=0)\n",
    "    subs[i].set_yticks([])\n",
    "    subs[i].set_ylim([0, 1])\n",
    "    subs[i].annotate('chr' + str(i+1), xy=(0.04, -0.05), xycoords='axes fraction', fontsize=20, horizontalalignment='right')\n",
    "\n",
    "subs[15].tick_params(axis='x', which='major', labelsize=16)\n",
    "subs[15].set_xlabel('BP', fontsize=16)\n",
    "sns.despine(left=True, bottom=True)    \n",
    "fig.savefig('../../Figures/supp_figs/insertion_map.png', background='transparent', bbox_inches='tight', pad_inches=0.1)"
   ]
  },
  {
   "cell_type": "markdown",
   "metadata": {},
   "source": [
    "## QTL map"
   ]
  },
  {
   "cell_type": "code",
   "execution_count": null,
   "metadata": {},
   "outputs": [],
   "source": [
    "# QTL map\n",
    "fig, subs = pl.subplots(16, 1, figsize=(16, 20), sharex=True, sharey=True)\n",
    "for entry in tp['full.model.qtls']:\n",
    "    if str(entry) != 'nan':\n",
    "        for qtl in str(entry).split('|'):\n",
    "            hit, left, right = qtl.split(';')\n",
    "            chromo = hit[3:5]\n",
    "            hit_loc = int(hit.split('_')[1])\n",
    "            if left[3:5] != chromo:\n",
    "                left_loc = 0\n",
    "            else:\n",
    "                left_loc = int(left.split('_')[1])\n",
    "            if right[3:5] != chromo:\n",
    "                right_loc = chromo_lens[chromo]\n",
    "            else:\n",
    "                right_loc = int(right.split('_')[1])\n",
    "            random_y = np.random.random()*0.7+0.3\n",
    "            subs[int(chromo)-1].plot([left_loc, right_loc], [random_y, random_y], c='k', lw=1, zorder=1)\n",
    "            subs[int(chromo)-1].scatter(hit_loc, random_y, c='r', s=10, zorder=2)\n",
    "            \n",
    "subs[3].plot([47000, 47000], [-0.1, 0.2], marker='', c=colors[0], zorder=3, lw=6)\n",
    "subs[4].plot([376000, 376000], [-0.1, 0.2], marker='', c=colors[0], zorder=3, lw=6)\n",
    "            \n",
    "for i in range(16):\n",
    "    subs[i].plot([0, chromo_lens['chr' + str(i+1).zfill(2)]], [0.15, 0.15], lw=4, solid_capstyle='round', c='b')\n",
    "    subs[i].set_yticks([])\n",
    "    subs[i].set_ylim([0, 2])\n",
    "    subs[i].annotate('chr' + str(i+1), xy=(0.04, -0.05), xycoords='axes fraction', fontsize=20, horizontalalignment='right')\n",
    "\n",
    "subs[15].tick_params(axis='x', which='major', labelsize=16)\n",
    "subs[15].set_xlabel('BP', fontsize=16)\n",
    "sns.despine(left=True, bottom=True)    \n",
    "fig.savefig('../../Figures/supp_figs/QTL_map.png', background='transparent', bbox_inches='tight', pad_inches=0.1)"
   ]
  },
  {
   "cell_type": "code",
   "execution_count": null,
   "metadata": {},
   "outputs": [],
   "source": [
    "def plot_num_measured(segs, td, sub, mut_type, exp_name):\n",
    "    nums_measured = [len(td.loc[pd.notnull(td[seg+'.mean.s'])]) for seg in segs]\n",
    "    x = [seg_to_fit[seg] for seg in segs]\n",
    "    sub.scatter(x, nums_measured)\n",
    "    reg = sci_stats.linregress(x, nums_measured)\n",
    "    print(reg)\n",
    "    sub.annotate('p = '+str(reg[3])[:4], xy=(0.1, 0.1), xycoords='axes fraction', fontsize=16)\n",
    "    sub.set_xlabel('Background Fitness', fontsize=16)\n",
    "    sub.set_ylabel('Number of Mutations Measured', fontsize=16)\n",
    "    sub.set_title(mut_type + ' Mutations in ' + exp_name, fontsize=18)\n",
    "    sub.tick_params(axis='both', which='major', labelsize=16)\n",
    "\n",
    "\n",
    "exps = {'BT': 'E1', 'TP': 'E2'}\n",
    "es = ['BT', 'TP']\n",
    "f, subs = pl.subplots(2, 2, figsize=(14, 12), sharex=True)\n",
    "for i in range(2):\n",
    "    exp = es[i]\n",
    "    td = dats[exp]\n",
    "    plot_num_measured(segs_all[exp], td.loc[td['avg_s']<0].loc[td['num.sig']>=2], subs[i][0], 'Deleterious', exps[exp])\n",
    "    plot_num_measured(segs_all[exp], td.loc[td['avg_s']>0].loc[td['num.sig']>=2], subs[i][1], 'Beneficial', exps[exp])\n",
    "sns.despine()\n",
    "f.savefig('../../Figures/supp_figs/num_mutations_measured_plots.png', background='transparent', bbox_inches='tight', pad_inches=0.1)"
   ]
  },
  {
   "cell_type": "markdown",
   "metadata": {},
   "source": [
    "# END OF PLOTTING FOR PAPER AND SI"
   ]
  },
  {
   "cell_type": "markdown",
   "metadata": {},
   "source": [
    "## OK so we would like to see if our DFE stat conclusions still stand if we exclude mutations with QTLs near our markers or the mutation with a detectable lag/saturation effect"
   ]
  },
  {
   "cell_type": "code",
   "execution_count": null,
   "metadata": {},
   "outputs": [],
   "source": [
    "def plot_dfe_statistics(exp, outname):\n",
    "    all_pads = 1\n",
    "    dfe_range = [-0.15, 0.07]\n",
    "    f, subs = pl.subplots(2, 3, figsize=(7.25, 4), dpi=300)\n",
    "    pl.subplots_adjust(wspace=0.4, hspace=0.5)\n",
    "    stats = ['mean', 'variance', 'skew', 'kurtosis', 'significant.beneficial.mutations', 'significant.deleterious.mutations']\n",
    "    stat_names = ['DFE Mean', 'DFE Variance', 'DFE Skew', 'DFE Kurtosis', '# Sig. Bene. Muts.', '# Sig. Del. Muts.']\n",
    "    s = 0\n",
    "    for suba in subs:\n",
    "        for sub in suba:\n",
    "            plot_dfe_stat(sub, dats[exp+'.DFE'].loc[dats[exp+'.DFE']['DFE.statistic']==stats[s]].iloc[0], segs_use[exp], \n",
    "                          [seg_to_fit[seg] for seg in segs_use[exp]], show_pvals=True, qtl_color=True,point_s=1.5)\n",
    "            sub.set_title(stat_names[s], fontsize=7, y=0.9)\n",
    "            sub.set_xlabel('Background Fitness', fontsize=6)\n",
    "            sub.tick_params(axis='both', which='major', labelsize=6)\n",
    "            s += 1\n",
    "    sns.despine()\n",
    "    f.savefig(outname, background='transparent', bbox_inches='tight', pad_inches=0.1)\n",
    "\n",
    "def plot_dfe_statistics_w_exclusions(exp, outname, edge_exclude):\n",
    "    dfe_cols = ['background.fitness', 'mean', 'median', 'variance', 'skew', 'kurtosis', 'significant.beneficial.mutations', 'significant.deleterious.mutations']\n",
    "    segs = segs_use[exp]\n",
    "    d = dats[exp]\n",
    "    seg_stats = dict()\n",
    "    for seg in segs:\n",
    "        measured = d.loc[~d['Edge'].isin(edge_exclude)].loc[pd.notnull(d[seg + '.mean.s'])]\n",
    "        dfe = list(measured[seg + '.mean.s'])\n",
    "        pvals = list(measured[seg + '.pval'])\n",
    "        sig = measured.loc[benjamini_hochberg(pvals)[0]] # B/H with alpha=0.05 by default\n",
    "        sig_dfe = list(sig[seg + '.mean.s'])\n",
    "        seg_stats[seg] = {\n",
    "            'background.fitness': seg_to_fit[seg],\n",
    "            'mean': np.nanmean(dfe),\n",
    "            'median': np.nanmedian(dfe),\n",
    "            'variance': np.nanvar(dfe),\n",
    "            'skew': sci_stats.skew(dfe),\n",
    "            'kurtosis': sci_stats.kurtosis(dfe),\n",
    "            'significant.beneficial.mutations': len([i for i in sig_dfe if i > 0]),\n",
    "            'significant.deleterious.mutations': len([i for i in sig_dfe if i < 0])\n",
    "        }\n",
    "\n",
    "    all_pads = 1\n",
    "    dfe_range = [-0.15, 0.07]\n",
    "    f, subs = pl.subplots(2, 3, figsize=(7.25, 4), dpi=300)\n",
    "    pl.subplots_adjust(wspace=0.4, hspace=0.5)\n",
    "    stats = ['mean', 'variance', 'skew', 'kurtosis', 'significant.beneficial.mutations', 'significant.deleterious.mutations']\n",
    "    stat_names = ['DFE Mean', 'DFE Variance', 'DFE Skew', 'DFE Kurtosis', '# Sig. Bene. Muts.', '# Sig. Del. Muts.']\n",
    "    s = 0\n",
    "    x = [seg_to_fit[seg] for seg in segs]\n",
    "    for suba in subs:\n",
    "        for sub in suba:\n",
    "            y = [seg_stats[seg][stats[s]] for seg in segs]\n",
    "            pval = sci_stats.linregress(x, y)[3]\n",
    "            print(exp, stats[s], 'p', pval)\n",
    "            sub.scatter(x, y, marker='o', linewidth=0.5, c='k', s=2)\n",
    "            sub.set_title(stat_names[s], fontsize=7, y=0.9)\n",
    "            sub.set_xlabel('Background Fitness', fontsize=6)\n",
    "            sub.tick_params(axis='both', which='major', labelsize=6)\n",
    "            if pval < 0.001:\n",
    "                sub.annotate('p=' + \"{:.2E}\".format(pval), xy=(0.9, 0.85), xycoords='axes fraction', fontsize=6, horizontalalignment='right', verticalalignment='bottom')\n",
    "            else:\n",
    "                sub.annotate('p=' + str(pval)[:5], xy=(0.9, 0.85), xycoords='axes fraction', fontsize=6, horizontalalignment='right', verticalalignment='bottom')\n",
    "            y_range = max(y)-min(y)\n",
    "            sub.set_ylim([min(y)-y_range*0.25, max(y)+y_range*0.25]) # I don't know why pyplot is not doing this well automatically here\n",
    "            s += 1\n",
    "    sns.despine()\n",
    "    if outname:\n",
    "        f.savefig(outname, background='transparent', bbox_inches='tight', pad_inches=0.1)\n",
    "    \n",
    "\n",
    "qtls_near_cassettes = ['qtl_chr04_40000_70000', # by HO / hphMX \n",
    "                       'qtl_chr05_360000_400000'] # by FLO8 / natMX\n",
    "qtl_df = pd.read_csv('../../Analysis/TP_QTL_results.csv')\n",
    "near_cas_edges = list(set(qtl_df.loc[qtl_df['QTL_group'].isin(qtls_near_cassettes)]['Edge']))\n",
    "ex_GC = [tp.loc[tp['Gene.Use']=='in MPC2'].iloc[0]['Edge']]\n",
    "ex_all = ex_GC + near_cas_edges\n",
    "    \n",
    "print('Excluding MPC2:')\n",
    "plot_dfe_statistics_w_exclusions('BT', None, ex_GC)\n",
    "plot_dfe_statistics_w_exclusions('TP', None, ex_GC)\n",
    "print('Excluding mutations with drug marker interactions:')\n",
    "plot_dfe_statistics_w_exclusions('BT', None, near_cas_edges)\n",
    "plot_dfe_statistics_w_exclusions('TP', None, near_cas_edges)\n",
    "print('Excluding all:')\n",
    "plot_dfe_statistics_w_exclusions('BT', None, ex_all)\n",
    "plot_dfe_statistics_w_exclusions('TP', None, ex_all)\n",
    "print('Excluding mutations with drug marker interactions:')\n",
    "plot_dfe_statistics_w_exclusions('BT', None, near_cas_edges)\n",
    "plot_dfe_statistics_w_exclusions('TP', None, near_cas_edges)"
   ]
  },
  {
   "cell_type": "code",
   "execution_count": null,
   "metadata": {},
   "outputs": [],
   "source": []
  },
  {
   "cell_type": "code",
   "execution_count": null,
   "metadata": {},
   "outputs": [],
   "source": []
  },
  {
   "cell_type": "code",
   "execution_count": null,
   "metadata": {},
   "outputs": [],
   "source": []
  },
  {
   "cell_type": "code",
   "execution_count": null,
   "metadata": {},
   "outputs": [],
   "source": []
  },
  {
   "cell_type": "code",
   "execution_count": null,
   "metadata": {},
   "outputs": [],
   "source": []
  },
  {
   "cell_type": "markdown",
   "metadata": {},
   "source": [
    "## Plotting outlier stuff"
   ]
  },
  {
   "cell_type": "code",
   "execution_count": 7,
   "metadata": {},
   "outputs": [],
   "source": [
    "from glob import glob\n",
    "from matplotlib.collections import LineCollection"
   ]
  },
  {
   "cell_type": "code",
   "execution_count": 16,
   "metadata": {},
   "outputs": [
    {
     "name": "stdout",
     "output_type": "stream",
     "text": [
      "fail 10 r2\n",
      "fail 13 r1\n",
      "fail 23 r1\n",
      "fail 23 r2\n",
      "fail 36 r2\n",
      "fail 43 r2\n",
      "fail 52 r1\n",
      "fail 55 r2\n",
      "fail 68 r2\n",
      "fail 69 r1\n",
      "fail 73 r2\n",
      "fail 97 r2\n"
     ]
    }
   ],
   "source": [
    "def get_outlier_info(cuts, exp):\n",
    "    recs = {'bene_true_pos': [], 'del_true_pos': [], 'false_pos': []}\n",
    "    neutral_lls = []\n",
    "    for sn in range(1, 101):\n",
    "        for rep in ['r1', 'r2']:\n",
    "            try:\n",
    "                td = pd.read_csv('../../simulation_results/sim_s_measurements/' + exp + '_' + str(sn) + '_' + rep + '_bc_s_initial.csv')\n",
    "                td = td.loc[~np.isnan(td['simple.s'])]\n",
    "                td['s.dif'] = td['Used.s'] - td['Edge.s']\n",
    "                td['bene.outlier'] = td['s.dif'] > 0.025\n",
    "                td['del.outlier'] = td['s.dif'] < -0.025\n",
    "                bene_true_pos, del_true_pos, false_pos = [], [], []\n",
    "                neutral_lls += list(td.loc[td['s.dif']==0]['LL.ratio.simple'])\n",
    "                if len(td.loc[td['bene.outlier']]) > 0 and len(td.loc[td['del.outlier']]) > 0:\n",
    "                    for cut in cuts:\n",
    "                        bene_true_pos.append(len(td.loc[td['LL.ratio.simple']>cut].loc[td['bene.outlier']])/len(td.loc[td['bene.outlier']]))\n",
    "                        del_true_pos.append(len(td.loc[td['LL.ratio.simple']>cut].loc[td['del.outlier']])/len(td.loc[td['del.outlier']]))\n",
    "                        false_pos.append(len(td.loc[td['LL.ratio.simple']>cut].loc[td['s.dif']==0])/len(td.loc[td['s.dif']==0]))\n",
    "                    recs['bene_true_pos'].append(bene_true_pos)\n",
    "                    recs['del_true_pos'].append(del_true_pos)\n",
    "                    recs['false_pos'].append(false_pos)\n",
    "            except FileNotFoundError:\n",
    "                print('fail', sn, rep)\n",
    "          \n",
    "    means = {pos_type: [np.nanmean([i[c] for i in recs[pos_type]]) for c in range(len(cuts))] for pos_type in recs}\n",
    "    stds = {pos_type: [np.nanstd([i[c] for i in recs[pos_type]]) for c in range(len(cuts))] for pos_type in recs}\n",
    "    return means, stds\n",
    "    \n",
    "cuts = [0, 2.5, 5, 7.5, 10, 12.5, 15, 17.5, 20, 30, 40]\n",
    "outlier_stats = {exp: get_outlier_info(cuts, exp) for exp in exps}"
   ]
  },
  {
   "cell_type": "code",
   "execution_count": 77,
   "metadata": {},
   "outputs": [
    {
     "name": "stdout",
     "output_type": "stream",
     "text": [
      "../../S_Estimation/TP_output/LK2-A11/LK2-A11_rep1_bc_s_initial.csv not found\n",
      "../../S_Estimation/TP_output/LK2-C05/LK2-C05_rep1_bc_s_initial.csv not found\n"
     ]
    }
   ],
   "source": [
    "\"\"\"\n",
    "# I ran this a few times to find random outlier examples that showed a variety of behaviors, now I am locked in to plotting these examples\n",
    "outlier_examples = {'TP': [], 'BT': []}\n",
    "reps = ['rep1', 'rep2']\n",
    "for exp in exps:\n",
    "    segs = [i.split('/')[-1] for i in glob('../../S_Estimation/' + exp + '_output/*')]\n",
    "    for x in range(8):\n",
    "        not_found = 0\n",
    "        while (not_found < 4):\n",
    "            seg = np.random.choice(segs)\n",
    "            rep = np.random.choice(reps)\n",
    "            fpath = '../../S_Estimation/' + exp + '_output/' + seg + '/' + seg + '_' + rep + '_bc_s_initial.csv'\n",
    "            try:\n",
    "                d = pd.read_csv(fpath)\n",
    "                edges_w_outliers = set(d.loc[d['LL.ratio']>15]['Edge'])\n",
    "                if len(edges_w_outliers) > 0:\n",
    "                    edge_to_use = np.random.choice(list(edges_w_outliers))\n",
    "                    not_found = 5\n",
    "                    outlier_examples[exp].append((seg, rep, edge_to_use))\n",
    "            except FileNotFoundError:\n",
    "                print(fpath, 'not found')\n",
    "                not_found += 1      \n",
    "\"\"\""
   ]
  },
  {
   "cell_type": "code",
   "execution_count": 80,
   "metadata": {},
   "outputs": [],
   "source": [
    "outlier_examples = {'TP': [('LK4-B06', 'rep1', 'AGTGTTAATCAGACC'),\n",
    "  ('LK1-F05', 'rep1', 'AAAACATTATCAAAG'),\n",
    "  ('LK3-D05', 'rep2', 'ACAACCTACCTGCTA'),\n",
    "  ('LK4-C08', 'rep2', 'ACAACCTACCTGCTA'),\n",
    "  ('LK3-G10', 'rep2', 'TCAAAACGGAGTGTT'),\n",
    "  ('LK3-E06', 'rep1', 'CGATGATGATGATGA'),\n",
    "  ('LK6-A11', 'rep2', 'CCAGGATGTACCGCC'),\n",
    "  ('LK1-G12', 'rep1', 'TCTTGGAGGTGAATG')],\n",
    " 'BT': [('LK3-D09', 'rep2', 'ACAGCATTCAATTCATCTCCACTGGTCATA'),\n",
    "  ('LK4-B12', 'rep2', 'AAAGGGCTATATTATCTCTCTCTTACGATT'),\n",
    "  ('LK1-D06', 'rep2', 'TGTATATGGTTAATAATAGTAGTATCTTGT'),\n",
    "  ('LK4-A12', 'rep2', 'ATGAAGTTCATAATGCTAAGTCATAATTAA'),\n",
    "  ('LK1-C11', 'rep2', 'ATAGCTATATAGATGGGTAGTGCGCATGGG'),\n",
    "  ('LK2-E07', 'rep1', 'ACAGGGCAGCTCCCGTAGAGGTTACCATGA'),\n",
    "  ('LK1-C11', 'rep1', 'CTTATGTATGTACGTATGTGCTGATTTTTT'),\n",
    "  ('LK4-E02', 'rep1', 'GTAGAAACCACGACTACGACTAAGAATTTG')]}"
   ]
  },
  {
   "cell_type": "code",
   "execution_count": 133,
   "metadata": {},
   "outputs": [
    {
     "name": "stderr",
     "output_type": "stream",
     "text": [
      "/anaconda3/lib/python3.7/site-packages/ipykernel_launcher.py:11: FutureWarning: Method .as_matrix will be removed in a future version. Use .values instead.\n",
      "  # This is added back by InteractiveShellApp.init_path()\n",
      "/anaconda3/lib/python3.7/site-packages/ipykernel_launcher.py:19: FutureWarning: Method .as_matrix will be removed in a future version. Use .values instead.\n",
      "/anaconda3/lib/python3.7/site-packages/ipykernel_launcher.py:21: FutureWarning: Method .as_matrix will be removed in a future version. Use .values instead.\n"
     ]
    }
   ],
   "source": [
    "def plot_outliers(exp, outlier_ex, subps):\n",
    "    for x in range(2):\n",
    "        for y in range(4):\n",
    "            seg, rep, edge_to_use = outlier_ex[x*4 + y]\n",
    "            d = pd.read_csv('../../S_Estimation/' + exp + '_output/' + seg + '/' + seg + '_' + rep + '_bc_s_initial.csv')\n",
    "            tp_names = [i for i in d.columns if '-T' in i]\n",
    "            tps = [int(i.split('-T')[-1])*10 for i in tp_names]\n",
    "            for tp in tp_names:\n",
    "                s = np.sum(d[tp])\n",
    "                d[tp + '.log10freq'] = np.log10(np.clip(d[tp] / s, 10**-6, 1))\n",
    "            rows = d.as_matrix([tp + '.log10freq' for tp in tp_names])\n",
    "            all_lines = np.zeros((len(rows), len(tps), 2), float)\n",
    "            for j in range(len(rows)):\n",
    "                all_lines[j, :, 1] = rows[j]\n",
    "                all_lines[j, :, 0] = tps\n",
    "            lines = LineCollection(all_lines, color='k', alpha=0.1, linewidths=0.5)\n",
    "            subps[x][y].add_collection(lines)\n",
    "            td = d.loc[d['Edge']==edge_to_use]\n",
    "            for entry in td.loc[td['LL.ratio'] <= 15].as_matrix([tp + '.log10freq' for tp in tp_names]):\n",
    "                subps[x][y].plot(tps, entry, c='b', lw=1)\n",
    "            for entry in td.loc[td['LL.ratio'] > 15].as_matrix([tp + '.log10freq' for tp in tp_names]):\n",
    "                subps[x][y].plot(tps, entry, c='r', lw=1)\n",
    "            subps[x][y].set_ylim([-6, 0])\n",
    "            subps[x][y].set_xlim([0, 40])\n",
    "            subps[x][y].set_title(seg + ' ' + rep, fontsize=8, y=0.8)\n",
    "            subps[x][y].tick_params(axis='both', which='major', labelsize=8)\n",
    "            if x > 0:\n",
    "                subps[x][y].set_yticks([])\n",
    "            elif y == 2:\n",
    "                subps[x][y].set_ylabel('log10(frequency)', y=1.2, x=-0.2, fontsize=9)\n",
    "            if y < 3:\n",
    "                subps[x][y].set_xticks([])\n",
    "            else:\n",
    "                subps[x][y].set_xticks([0, 10, 20, 30, 40])\n",
    "                if x == 0:\n",
    "                    subps[x][y].set_xlabel('Generations', x=1.2, y=-0.2, fontsize=9)\n",
    "\n",
    "all_pads = 1\n",
    "dfe_range = [-0.15, 0.07]\n",
    "f = pl.figure(figsize=(7.25, 9), dpi=300)\n",
    "pl.subplots_adjust(wspace=0.25)\n",
    "gs0 = gridspec.GridSpec(16, 16)\n",
    "stat_gs = gridspec.GridSpecFromSubplotSpec(1, 2, subplot_spec=gs0[:4,:])\n",
    "bt_example_gs = gridspec.GridSpecFromSubplotSpec(4, 2, subplot_spec=gs0[6:,:7])\n",
    "tp_example_gs = gridspec.GridSpecFromSubplotSpec(4, 2, subplot_spec=gs0[6:,9:])\n",
    "stat_subs = [pl.Subplot(f, stat_gs[i]) for i in range(2)]\n",
    "tp_example_subs = [[pl.Subplot(f, tp_example_gs[i, j]) for i in range(4)] for j in range(2)]\n",
    "bt_example_subs = [[pl.Subplot(f, bt_example_gs[i, j]) for i in range(4)] for j in range(2)]\n",
    "jnk = [[f.add_subplot(tp_example_subs[j][i]) for i in range(4)] for j in range(2)]\n",
    "jnk = [[f.add_subplot(bt_example_subs[j][i]) for i in range(4)] for j in range(2)]\n",
    "\n",
    "i = 0\n",
    "for exp in exps:\n",
    "    sub = stat_subs[i]\n",
    "    i += 1\n",
    "    os = outlier_stats[exp]\n",
    "    sub.errorbar(x=cuts, y=os[0]['bene_true_pos'], yerr=os[1]['bene_true_pos'], c='r', label='bene. true pos. rate', lw=1)\n",
    "    sub.errorbar(x=cuts, y=os[0]['del_true_pos'], yerr=os[1]['del_true_pos'], c='b', label='del. true pos. rate', lw=1)\n",
    "    sub.errorbar(x=cuts, y=os[0]['false_pos'], yerr=os[1]['false_pos'], c='k', label='false pos. rate', lw=1)\n",
    "    sub.set_title(exps[exp], fontsize=9)\n",
    "    sub.set_xlabel('Log-Likelihood cutoff', fontsize=9)\n",
    "    sub.tick_params(axis='both', which='major', labelsize=8)\n",
    "    f.add_subplot(sub)\n",
    "stat_subs[0].legend(frameon=False, fontsize=8, loc='best', bbox_to_anchor=(0.4, 0., 0.5, 0.5))\n",
    "stat_subs[0].annotate('A', fontsize=10, xy=(-0.1, 1.1), xycoords=\"axes fraction\", horizontalalignment=\"center\")\n",
    "tp_example_subs[0][0].annotate('B', fontsize=10, xy=(-0.3, 1.1), xycoords=\"axes fraction\", horizontalalignment=\"center\")\n",
    "bt_example_subs[0][0].annotate('C', fontsize=10, xy=(-0.3, 1.1), xycoords=\"axes fraction\", horizontalalignment=\"center\")\n",
    "\n",
    "plot_outliers('TP', outlier_examples['TP'], tp_example_subs)\n",
    "plot_outliers('BT', outlier_examples['BT'], bt_example_subs)\n",
    "\n",
    "sns.despine()\n",
    "f.savefig('../../Figures/supp_figs/outlier_figure.png', background='transparent', bbox_inches='tight', pad_inches=0.1)\n"
   ]
  },
  {
   "cell_type": "code",
   "execution_count": null,
   "metadata": {},
   "outputs": [],
   "source": []
  },
  {
   "cell_type": "code",
   "execution_count": null,
   "metadata": {},
   "outputs": [],
   "source": []
  },
  {
   "cell_type": "code",
   "execution_count": null,
   "metadata": {},
   "outputs": [],
   "source": []
  },
  {
   "cell_type": "markdown",
   "metadata": {},
   "source": [
    "## Some additional scratch plots"
   ]
  },
  {
   "cell_type": "code",
   "execution_count": null,
   "metadata": {},
   "outputs": [],
   "source": [
    "# QTL effect sizes\n",
    "qtl_df = pd.read_csv('../../Analysis/TP_QTL_results.csv')\n",
    "mhq_df = pd.read_csv('../../Analysis/Multi_hit_QTLs.csv')\n",
    "f, sub = pl.subplots(1, 1, figsize=(7, 5))\n",
    "qtl_group_2_simpler = {i[0]: i[0].split('_')[1] + '_' + str(int(i[1])) for i in mhq_df.as_matrix(['QTL', 'median.loc'])}\n",
    "qtl_df['QTL_group_simple'] = qtl_df['QTL_group'].apply(lambda q: qtl_group_2_simpler.setdefault(q, 'Other'))\n",
    "sns.swarmplot(x='QTL_group_simple', y='effect_size', data=qtl_df.sort_values(by='QTL_group_simple'), ax=sub)\n",
    "pl.xticks(rotation='vertical')\n",
    "sub.tick_params(axis='both', which='major', labelsize=16)\n",
    "sns.despine()\n",
    "sub.set_xlabel('Multi-hit QTL', fontsize=16)\n",
    "sub.set_ylabel('Epistatic effect', fontsize=16)\n",
    "pl.tight_layout()\n",
    "#f.savefig('../../Figures/all/QTL_group_effect_sizes.png', background='transparent')"
   ]
  },
  {
   "cell_type": "code",
   "execution_count": null,
   "metadata": {},
   "outputs": [],
   "source": [
    "for exp in exps:\n",
    "    dats[exp]['avg_s_effect'] = dats[exp].apply(lambda r: np.nanmean([np.abs(r[s+'.mean.s']) for s in segs_all[exp]]), axis=1)\n",
    "    dats[exp]['top_qtl_es'] = dats[exp]['full_model_qtl_effect_sizes'].apply(lambda es: float(str(es).split(';')[0]))"
   ]
  },
  {
   "cell_type": "code",
   "execution_count": null,
   "metadata": {},
   "outputs": [],
   "source": [
    "f, subs = pl.subplots(1, 2, figsize=(8, 3), dpi=100)\n",
    "pl.subplots_adjust(wspace=0.4)\n",
    "subs[0].plot([0, 0.15], [0, -0.15], linestyle='dashed', alpha=0.5, c='k')\n",
    "subs[0].plot([0, 0.025], [0, 0.025], linestyle='dashed', alpha=0.5, c='k')\n",
    "subs[0].scatter(data=dats['TP'], x='avg_s_effect', y='full_model_x_effect_size_measure', s=10, c='k')\n",
    "subs[0].set_xlabel('Average absolute fitness effect ( mean(abs(s)) )')\n",
    "subs[0].set_ylabel('Background fitness unscaled effect size')\n",
    "subs[1].plot([0, 0.05], [0, -0.05], linestyle='dashed', alpha=0.5, c='k')\n",
    "subs[1].plot([0, 0.06], [0, 0.06], linestyle='dashed', alpha=0.5, c='k')\n",
    "subs[1].scatter(data=dats['TP'], x='avg_s_effect', y='top_qtl_es', s=10, c='k')\n",
    "subs[1].set_xlabel('Average absolute fitness effect ( mean(abs(s)) )')\n",
    "subs[1].set_ylabel('Top QTL unscaled effect size')\n",
    "sns.despine()"
   ]
  },
  {
   "cell_type": "markdown",
   "metadata": {},
   "source": [
    "## OK I would like to look at the variance in fitness among my segregants, and then look at the variance in fitness among segregants after a mutation is applied:"
   ]
  },
  {
   "cell_type": "code",
   "execution_count": null,
   "metadata": {},
   "outputs": [],
   "source": [
    "def seg_fit_variance_plot(sub, exp):\n",
    "    xi = [seg_to_fit[seg] for seg in segs_use[exp]]\n",
    "    vi = np.var(xi)\n",
    "    variances = []\n",
    "    for i, r in dats[exp].iterrows():\n",
    "        measured = [s for s in segs_use[exp] if pd.notnull(r[s + '.mean.s'])]\n",
    "        if len(measured) > 5:\n",
    "            xf = [seg_to_fit[s] + r[s + '.mean.s'] for s in measured]\n",
    "            variances.append(np.var(xf))\n",
    "    print(exp, len(variances), vi, np.mean(variances))\n",
    "    sub.hist(variances, facecolor='#333333')\n",
    "    sub.axvline(x=vi, ymin=0, ymax=1, color='red', linestyle='-', lw=1, label='Variance in\\nInitial Fitness')\n",
    "    sub.set_xlabel('Variance in Final Fitness')\n",
    "    sub.set_ylabel('# of Mutations')\n",
    "    sub.legend(loc=\"upper left\", frameon=False)"
   ]
  },
  {
   "cell_type": "code",
   "execution_count": null,
   "metadata": {},
   "outputs": [],
   "source": [
    "f, sub = pl.subplots(1, 1, figsize=(4, 3), dpi=100)\n",
    "seg_fit_variance_plot(sub, 'TP')\n",
    "sns.despine()"
   ]
  },
  {
   "cell_type": "code",
   "execution_count": null,
   "metadata": {},
   "outputs": [],
   "source": []
  },
  {
   "cell_type": "code",
   "execution_count": null,
   "metadata": {},
   "outputs": [],
   "source": []
  },
  {
   "cell_type": "code",
   "execution_count": null,
   "metadata": {},
   "outputs": [],
   "source": []
  }
 ],
 "metadata": {
  "kernelspec": {
   "display_name": "Python 3",
   "language": "python",
   "name": "python3"
  },
  "language_info": {
   "codemirror_mode": {
    "name": "ipython",
    "version": 3
   },
   "file_extension": ".py",
   "mimetype": "text/x-python",
   "name": "python",
   "nbconvert_exporter": "python",
   "pygments_lexer": "ipython3",
   "version": "3.7.1"
  }
 },
 "nbformat": 4,
 "nbformat_minor": 2
}
