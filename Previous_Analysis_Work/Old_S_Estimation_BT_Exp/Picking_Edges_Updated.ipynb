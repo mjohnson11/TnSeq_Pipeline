{
 "cells": [
  {
   "cell_type": "markdown",
   "metadata": {},
   "source": [
    "# This is just a simplified version of my edge picking notebook, so you can clearly see how we chose which mutations to use in the second experiment (TP)"
   ]
  },
  {
   "cell_type": "code",
   "execution_count": 1,
   "metadata": {},
   "outputs": [],
   "source": [
    "import pandas as pd\n",
    "import numpy as np"
   ]
  },
  {
   "cell_type": "markdown",
   "metadata": {},
   "source": [
    "# Loading in data from Sergey's analysis and annotation data"
   ]
  },
  {
   "cell_type": "code",
   "execution_count": 2,
   "metadata": {},
   "outputs": [],
   "source": [
    "sd = pd.read_csv('sk_data_headers_changed.csv')\n",
    "sd['new.num.sig'] = sd.apply(lambda row: len([i for i in [j for j in range(1, 21) if j not in [9, 18]] if row['sig.Seg' + str(i).zfill(2)]]), axis=1)\n",
    "ann_dat = pd.read_csv('../../Mutation_Annotation/Edges_annotated.csv')\n",
    "mg = sd.merge(ann_dat, on='Edge', how='left')"
   ]
  },
  {
   "cell_type": "code",
   "execution_count": 3,
   "metadata": {},
   "outputs": [
    {
     "name": "stdout",
     "output_type": "stream",
     "text": [
      "30\n"
     ]
    }
   ],
   "source": [
    "def clearly_neutral(row):\n",
    "    neut = 0\n",
    "    for i in [j for j in range(1,21) if j not in [9,18]]:\n",
    "        s = row['s.Seg' + str(i).zfill(2)] \n",
    "        if not np.isnan(s) and np.abs(s) < 0.5:\n",
    "            neut += 1\n",
    "    return neut\n",
    "\n",
    "putative_neutral = mg.loc[mg.apply(lambda x: clearly_neutral(x) == 18, axis=1)].loc[mg.apply(lambda x: str(x['Gene'])=='nan', axis=1)].loc[mg['Expected.From.TnCS']]\n",
    "print(len(putative_neutral))"
   ]
  },
  {
   "cell_type": "markdown",
   "metadata": {},
   "source": [
    "## From the above list of neutral edges I chose 5 that looked good by eye:"
   ]
  },
  {
   "cell_type": "code",
   "execution_count": 4,
   "metadata": {},
   "outputs": [],
   "source": [
    "chosen_neutral_list = {\n",
    "    418: 'CGATGATGATGATGAAACGAAAAACTGCTA',\n",
    "    691: 'GTTGGGCGCTTAAAGAAGAGACTCACTAAA',\n",
    "    742: 'TATATTGAACTTTACAACTTGTACCCTTCA',\n",
    "    757: 'TCAAAACGGAGTGTTTACAGCTATCTGTCC',\n",
    "    73: 'ACAACCTACCTGCTATCTTGTTCACGGATA' \n",
    "    }\n",
    "neutral_choice = mg.loc[mg['ID'].isin(chosen_neutral_list)]"
   ]
  },
  {
   "cell_type": "markdown",
   "metadata": {},
   "source": [
    "# Assembling the chosen set:\n",
    "* the neutral edges chosen above\n",
    "* all edges that have significant fitness effects in at least 6 clones, except one (the third FUN30 one, since it is the same as the other two (and between them on the gene))"
   ]
  },
  {
   "cell_type": "code",
   "execution_count": 5,
   "metadata": {},
   "outputs": [
    {
     "data": {
      "text/html": [
       "<div>\n",
       "<style scoped>\n",
       "    .dataframe tbody tr th:only-of-type {\n",
       "        vertical-align: middle;\n",
       "    }\n",
       "\n",
       "    .dataframe tbody tr th {\n",
       "        vertical-align: top;\n",
       "    }\n",
       "\n",
       "    .dataframe thead th {\n",
       "        text-align: right;\n",
       "    }\n",
       "</style>\n",
       "<table border=\"1\" class=\"dataframe\">\n",
       "  <thead>\n",
       "    <tr style=\"text-align: right;\">\n",
       "      <th></th>\n",
       "      <th>ID</th>\n",
       "      <th>Edge</th>\n",
       "      <th>s.Seg01</th>\n",
       "      <th>s.Seg02</th>\n",
       "      <th>s.Seg03</th>\n",
       "      <th>s.Seg04</th>\n",
       "      <th>s.Seg05</th>\n",
       "      <th>s.Seg06</th>\n",
       "      <th>s.Seg07</th>\n",
       "      <th>s.Seg08</th>\n",
       "      <th>...</th>\n",
       "      <th>orf_strand.nearby</th>\n",
       "      <th>phenotypeSummary</th>\n",
       "      <th>phenotypeSummary.nearby</th>\n",
       "      <th>start</th>\n",
       "      <th>start.nearby</th>\n",
       "      <th>Expected.From.TnCS</th>\n",
       "      <th>In.TP</th>\n",
       "      <th>TP.Control</th>\n",
       "      <th>Expected.In.TP</th>\n",
       "      <th>TP.Reference</th>\n",
       "    </tr>\n",
       "  </thead>\n",
       "  <tbody>\n",
       "    <tr>\n",
       "      <th>4</th>\n",
       "      <td>760</td>\n",
       "      <td>TCAAATGATGAGGATGACGTAGTGCAAGTG</td>\n",
       "      <td>-0.33</td>\n",
       "      <td>-2.04</td>\n",
       "      <td>-2.89</td>\n",
       "      <td>-3.03</td>\n",
       "      <td>-2.57</td>\n",
       "      <td>-2.15</td>\n",
       "      <td>-3.54</td>\n",
       "      <td>0.28</td>\n",
       "      <td>...</td>\n",
       "      <td>1|-1|1</td>\n",
       "      <td>Non-essential gene, null mutant shows decrease...</td>\n",
       "      <td>None|Non-essential gene; null mutant displays ...</td>\n",
       "      <td>114919</td>\n",
       "      <td>114250|113614|114919</td>\n",
       "      <td>True</td>\n",
       "      <td>True</td>\n",
       "      <td>False</td>\n",
       "      <td>True</td>\n",
       "      <td>False</td>\n",
       "    </tr>\n",
       "    <tr>\n",
       "      <th>16</th>\n",
       "      <td>79</td>\n",
       "      <td>ACAAGTTTTACAGTTTATTAATGACTCTGA</td>\n",
       "      <td>-0.28</td>\n",
       "      <td>-1.35</td>\n",
       "      <td>-2.73</td>\n",
       "      <td>-3.93</td>\n",
       "      <td>-2.86</td>\n",
       "      <td>-3.30</td>\n",
       "      <td>-4.46</td>\n",
       "      <td>0.50</td>\n",
       "      <td>...</td>\n",
       "      <td>1</td>\n",
       "      <td>Non-essential gene, null mutant shows decrease...</td>\n",
       "      <td>Non-essential gene, null mutant shows decrease...</td>\n",
       "      <td>114919</td>\n",
       "      <td>114919</td>\n",
       "      <td>True</td>\n",
       "      <td>True</td>\n",
       "      <td>False</td>\n",
       "      <td>True</td>\n",
       "      <td>False</td>\n",
       "    </tr>\n",
       "    <tr>\n",
       "      <th>91</th>\n",
       "      <td>278</td>\n",
       "      <td>ATTGGCAAGTCTTATGAGTCATCCGCTACA</td>\n",
       "      <td>-0.47</td>\n",
       "      <td>-0.97</td>\n",
       "      <td>-2.93</td>\n",
       "      <td>-2.35</td>\n",
       "      <td>-3.03</td>\n",
       "      <td>-2.00</td>\n",
       "      <td>-3.21</td>\n",
       "      <td>0.40</td>\n",
       "      <td>...</td>\n",
       "      <td>1</td>\n",
       "      <td>Non-essential gene, null mutant shows decrease...</td>\n",
       "      <td>Non-essential gene, null mutant shows decrease...</td>\n",
       "      <td>114919</td>\n",
       "      <td>114919</td>\n",
       "      <td>True</td>\n",
       "      <td>False</td>\n",
       "      <td>False</td>\n",
       "      <td>False</td>\n",
       "      <td>False</td>\n",
       "    </tr>\n",
       "  </tbody>\n",
       "</table>\n",
       "<p>3 rows × 90 columns</p>\n",
       "</div>"
      ],
      "text/plain": [
       "     ID                            Edge  s.Seg01  s.Seg02  s.Seg03  s.Seg04  \\\n",
       "4   760  TCAAATGATGAGGATGACGTAGTGCAAGTG    -0.33    -2.04    -2.89    -3.03   \n",
       "16   79  ACAAGTTTTACAGTTTATTAATGACTCTGA    -0.28    -1.35    -2.73    -3.93   \n",
       "91  278  ATTGGCAAGTCTTATGAGTCATCCGCTACA    -0.47    -0.97    -2.93    -2.35   \n",
       "\n",
       "    s.Seg05  s.Seg06  s.Seg07  s.Seg08      ...       orf_strand.nearby  \\\n",
       "4     -2.57    -2.15    -3.54     0.28      ...                  1|-1|1   \n",
       "16    -2.86    -3.30    -4.46     0.50      ...                       1   \n",
       "91    -3.03    -2.00    -3.21     0.40      ...                       1   \n",
       "\n",
       "                                     phenotypeSummary  \\\n",
       "4   Non-essential gene, null mutant shows decrease...   \n",
       "16  Non-essential gene, null mutant shows decrease...   \n",
       "91  Non-essential gene, null mutant shows decrease...   \n",
       "\n",
       "                              phenotypeSummary.nearby   start  \\\n",
       "4   None|Non-essential gene; null mutant displays ...  114919   \n",
       "16  Non-essential gene, null mutant shows decrease...  114919   \n",
       "91  Non-essential gene, null mutant shows decrease...  114919   \n",
       "\n",
       "            start.nearby  Expected.From.TnCS  In.TP  TP.Control  \\\n",
       "4   114250|113614|114919                True   True       False   \n",
       "16                114919                True   True       False   \n",
       "91                114919                True  False       False   \n",
       "\n",
       "    Expected.In.TP  TP.Reference  \n",
       "4             True         False  \n",
       "16            True         False  \n",
       "91           False         False  \n",
       "\n",
       "[3 rows x 90 columns]"
      ]
     },
     "execution_count": 5,
     "metadata": {},
     "output_type": "execute_result"
    }
   ],
   "source": [
    "mg.loc[mg['new.num.sig']>5].loc[mg['ORF'] == 'YAL019W']"
   ]
  },
  {
   "cell_type": "code",
   "execution_count": 8,
   "metadata": {},
   "outputs": [
    {
     "name": "stderr",
     "output_type": "stream",
     "text": [
      "/n/home13/mjohnson/.conda/envs/milo_simple_conda5/lib/python3.6/site-packages/ipykernel_launcher.py:3: SettingWithCopyWarning: \n",
      "A value is trying to be set on a copy of a slice from a DataFrame.\n",
      "Try using .loc[row_indexer,col_indexer] = value instead\n",
      "\n",
      "See the caveats in the documentation: http://pandas.pydata.org/pandas-docs/stable/indexing.html#indexing-view-versus-copy\n",
      "  This is separate from the ipykernel package so we can avoid doing imports until\n"
     ]
    }
   ],
   "source": [
    "sig_choice = mg.loc[mg['new.num.sig']>5].loc[mg['Expected.From.TnCS']].loc[mg['Edge'] != 'ATTGGCAAGTCTTATGAGTCATCCGCTACA']\n",
    "sig_choice['Is.Reference'] = [False for i in range(len(sig_choice))]\n",
    "neutral_choice['Is.Reference'] = [True for i in range(len(neutral_choice))]\n",
    "full_choice = pd.concat([sig_choice, neutral_choice])"
   ]
  },
  {
   "cell_type": "markdown",
   "metadata": {},
   "source": [
    "## Confirming that this set is the same one I chose before:"
   ]
  },
  {
   "cell_type": "code",
   "execution_count": 9,
   "metadata": {},
   "outputs": [
    {
     "name": "stdout",
     "output_type": "stream",
     "text": [
      "96 96 96\n"
     ]
    }
   ],
   "source": [
    "d = pd.read_csv('Tn96_edges_chosen_final.csv')\n",
    "print(len(d), len(full_choice), len(set(d['Edge']).intersection(set(full_choice['Edge']))))"
   ]
  },
  {
   "cell_type": "markdown",
   "metadata": {},
   "source": [
    "## great"
   ]
  },
  {
   "cell_type": "code",
   "execution_count": null,
   "metadata": {},
   "outputs": [],
   "source": []
  }
 ],
 "metadata": {
  "kernelspec": {
   "display_name": "Python 3",
   "language": "python",
   "name": "python3"
  },
  "language_info": {
   "codemirror_mode": {
    "name": "ipython",
    "version": 3
   },
   "file_extension": ".py",
   "mimetype": "text/x-python",
   "name": "python",
   "nbconvert_exporter": "python",
   "pygments_lexer": "ipython3",
   "version": "3.6.4"
  }
 },
 "nbformat": 4,
 "nbformat_minor": 2
}
